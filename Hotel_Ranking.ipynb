{
  "nbformat": 4,
  "nbformat_minor": 0,
  "metadata": {
    "colab": {
      "provenance": []
    },
    "kernelspec": {
      "name": "python3",
      "display_name": "Python 3"
    },
    "language_info": {
      "name": "python"
    }
  },
  "cells": [
    {
      "cell_type": "code",
      "execution_count": 1,
      "metadata": {
        "colab": {
          "base_uri": "https://localhost:8080/"
        },
        "id": "qiV7zLc7sCoh",
        "outputId": "612b9bb9-2d43-4bb3-aaa4-3ab54815af31"
      },
      "outputs": [
        {
          "output_type": "stream",
          "name": "stdout",
          "text": [
            "Mounted at /content/drive\n"
          ]
        }
      ],
      "source": [
        "from google.colab import drive\n",
        "drive.mount('/content/drive')"
      ]
    },
    {
      "cell_type": "code",
      "source": [
        "import pandas as pd\n",
        "import numpy as np\n",
        "import matplotlib.pyplot as plt\n",
        "import seaborn as sns\n",
        "import re"
      ],
      "metadata": {
        "id": "e4MoxJGvsWzX"
      },
      "execution_count": 2,
      "outputs": []
    },
    {
      "cell_type": "code",
      "source": [
        "import torch\n",
        "import pandas as pd\n",
        "import torch.nn.functional as F\n",
        "from transformers import pipeline\n",
        "from transformers import AutoTokenizer, AutoModelForSequenceClassification\n",
        "from transformers import DistilBertTokenizer\n"
      ],
      "metadata": {
        "id": "dLTl7B-QuktF"
      },
      "execution_count": 45,
      "outputs": []
    },
    {
      "cell_type": "code",
      "source": [
        "binori=pd.read_csv('/content/drive/MyDrive/Hotel_Reviews/Binori_reviews.csv')\n",
        "courtyard_sbr=pd.read_csv('/content/drive/MyDrive/Hotel_Reviews/Courtyard_SBR_reviews.csv')\n",
        "crown_plaza=pd.read_csv('/content/drive/MyDrive/Hotel_Reviews/Crown_Plaza_reviews.csv')\n",
        "dt=pd.read_csv('/content/drive/MyDrive/Hotel_Reviews/DoubleTree_reviews.csv')\n",
        "ff_marriott=pd.read_csv('/content/drive/MyDrive/Hotel_Reviews/FairField_Marriott_reviews.csv')\n",
        "fortune_select=pd.read_csv('/content/drive/MyDrive/Hotel_Reviews/Fortune_Select_reviews.csv')\n",
        "holiInn_prahald=pd.read_csv('/content/drive/MyDrive/Hotel_Reviews/HolidayInn_Prahaladnagar_reviews.csv')\n",
        "hyatt=pd.read_csv('/content/drive/MyDrive/Hotel_Reviews/Hyatt_reviews.csv')\n",
        "itc_narmada=pd.read_csv('/content/drive/MyDrive/Hotel_Reviews/ITC_Narmada_reviews.csv')\n",
        "lt=pd.read_csv('/content/drive/MyDrive/Hotel_Reviews/Lemon Tree Premier; The Atrium_reviews.csv')\n",
        "novotel=pd.read_csv('/content/drive/MyDrive/Hotel_Reviews/Novotel_reviews.csv')\n",
        "pride_plaza=pd.read_csv('/content/drive/MyDrive/Hotel_Reviews/PridePlaza_reviews.csv')\n",
        "rb=pd.read_csv('/content/drive/MyDrive/Hotel_Reviews/Radisson_Blu_reviews.csv')\n",
        "taj=pd.read_csv('/content/drive/MyDrive/Hotel_Reviews/TAJ_reviews.csv')\n",
        "vivanta=pd.read_csv('/content/drive/MyDrive/Hotel_Reviews/Vivanta_reviews.csv')\n",
        "courtyard_marriott=pd.read_csv('/content/drive/MyDrive/Hotel_Reviews/Courtyard_Marriott_reviews.csv')\n",
        "ramada=pd.read_csv('/content/drive/MyDrive/Hotel_Reviews/Ramada_reviews_only.csv')\n",
        "renaissance=pd.read_csv('/content/drive/MyDrive/Hotel_Reviews/Renaissance_reviews.csv')"
      ],
      "metadata": {
        "id": "glyA2XcqscCj"
      },
      "execution_count": 3,
      "outputs": []
    },
    {
      "cell_type": "code",
      "source": [
        "cama=pd.read_csv('/content/drive/MyDrive/Hotel_Reviews/Left/Cama_reviews.csv')\n",
        "cambay=pd.read_csv('/content/drive/MyDrive/Hotel_Reviews/Left/Cambay_Grand_reviews.csv')\n",
        "fourtune_park=pd.read_csv('/content/drive/MyDrive/Hotel_Reviews/Left/Fortune_Park_reviews.csv')\n",
        "four_points=pd.read_csv('/content/drive/MyDrive/Hotel_Reviews/Left/Four_Points_reviews.csv')\n",
        "hillock=pd.read_csv('/content/drive/MyDrive/Hotel_Reviews/Left/Hillock_reviews.csv')\n",
        "mg=pd.read_csv('/content/drive/MyDrive/Hotel_Reviews/Left/House_of_MG_reviews.csv')\n",
        "hyatt_regency=pd.read_csv('/content/drive/MyDrive/Hotel_Reviews/Left/Hyatt_Regency_reviews.csv')\n",
        "metropole=pd.read_csv('/content/drive/MyDrive/Hotel_Reviews/Left/Metropole_reviews.csv')\n",
        "president=pd.read_csv('/content/drive/MyDrive/Hotel_Reviews/Left/President_reviews.csv')\n",
        "regenta=pd.read_csv('/content/drive/MyDrive/Hotel_Reviews/Left/Regenta_Central_reviews.csv')\n",
        "ummed=pd.read_csv('/content/drive/MyDrive/Hotel_Reviews/Left/The_Ummed_reviews.csv')\n",
        "welcomes=pd.read_csv('/content/drive/MyDrive/Hotel_Reviews/Left/WelcomHotel_ITC_reviews.csv')\n",
        "wyndham=pd.read_csv('/content/drive/MyDrive/Hotel_Reviews/Left/Wyndham_reviews.csv')\n",
        "fortune_landmark=pd.read_csv('/content/drive/MyDrive/Hotel_Reviews/Left/Fortune_Landmark_reviews.csv')"
      ],
      "metadata": {
        "id": "bizC_iHzssSV"
      },
      "execution_count": 4,
      "outputs": []
    },
    {
      "cell_type": "code",
      "source": [
        "ramada=ramada['Review']\n",
        "ramada=pd.DataFrame(ramada)\n",
        "ramada['Hotel_Name']='Ramada'"
      ],
      "metadata": {
        "id": "K52cZsoIswoF"
      },
      "execution_count": 5,
      "outputs": []
    },
    {
      "cell_type": "code",
      "source": [
        "courtyard_marriott['Review ']\n",
        "courtyard_marriott.rename(columns={'Review ':'Review'},inplace=True)\n",
        "courtyard_marriott=courtyard_marriott['Review']\n",
        "courtyard_marriott=pd.DataFrame(courtyard_marriott)\n",
        "courtyard_marriott['Hotel_Name']='Courtyard Marriott'\n",
        "courtyard_marriott.dropna(inplace=True)"
      ],
      "metadata": {
        "id": "CCqe7TYGsxka"
      },
      "execution_count": 6,
      "outputs": []
    },
    {
      "cell_type": "code",
      "source": [
        "binori=binori['Reviews']\n",
        "\n",
        "binori=pd.DataFrame(binori)\n",
        "binori['Hotel_Name']='Binori'\n",
        "binori.rename(columns={'Reviews':'Review'},inplace=True)\n",
        "binori.dropna(inplace=True)"
      ],
      "metadata": {
        "id": "li5o-nbhs0Rb"
      },
      "execution_count": 7,
      "outputs": []
    },
    {
      "cell_type": "code",
      "source": [
        "courtyard_sbr=courtyard_sbr['Review']\n",
        "\n",
        "courtyard_sbr=pd.DataFrame(courtyard_sbr)\n",
        "courtyard_sbr['Hotel_Name']='Courtyard SBR'\n",
        "#courtyard_sbr.rename(columns={'Reviews':'Review'},inplace=True)"
      ],
      "metadata": {
        "id": "I8FEQFWFs2ko"
      },
      "execution_count": 8,
      "outputs": []
    },
    {
      "cell_type": "code",
      "source": [
        "crown_plaza=crown_plaza['Review']\n",
        "\n",
        "crown_plaza=pd.DataFrame(crown_plaza)\n",
        "crown_plaza['Hotel_Name']='Crown Plaza'"
      ],
      "metadata": {
        "id": "EdlpNcFSs-de"
      },
      "execution_count": 9,
      "outputs": []
    },
    {
      "cell_type": "code",
      "source": [
        "dt=dt[\"Review\"]\n",
        "dt=pd.DataFrame(dt)\n",
        "dt['Hotel_Name']=\"Double Tree\""
      ],
      "metadata": {
        "id": "9MEcKzV6tAVf"
      },
      "execution_count": 10,
      "outputs": []
    },
    {
      "cell_type": "code",
      "source": [
        "ff_marriott=ff_marriott['Review']\n",
        "ff_marriott=pd.DataFrame(ff_marriott)\n",
        "ff_marriott['Hotel_Name']='FairField Marriott'"
      ],
      "metadata": {
        "id": "H9cbHvjbtCNT"
      },
      "execution_count": 11,
      "outputs": []
    },
    {
      "cell_type": "code",
      "source": [
        "fortune_select=fortune_select['Review']\n",
        "fortune_select=pd.DataFrame(fortune_select)\n",
        "fortune_select['Hotel_Name']='Fortune Select'"
      ],
      "metadata": {
        "id": "vLSpvtzHtEpj"
      },
      "execution_count": 12,
      "outputs": []
    },
    {
      "cell_type": "code",
      "source": [
        "holiInn_prahald=holiInn_prahald['Review']\n",
        "holiInn_prahald=pd.DataFrame(holiInn_prahald)\n",
        "holiInn_prahald['Hotel_Name']='Holiday Inn Prahaladnagar'\n",
        "holiInn_prahald.dropna(inplace=True)"
      ],
      "metadata": {
        "id": "AkjgFRTitGW6"
      },
      "execution_count": 13,
      "outputs": []
    },
    {
      "cell_type": "code",
      "source": [
        "hyatt=hyatt['Review']\n",
        "hyatt=pd.DataFrame(hyatt)\n",
        "hyatt['Hotel_Name']='Hyatt'"
      ],
      "metadata": {
        "id": "C2GDFmOEtH1E"
      },
      "execution_count": 14,
      "outputs": []
    },
    {
      "cell_type": "code",
      "source": [
        "itc_narmada=itc_narmada['Review']\n",
        "itc_narmada=pd.DataFrame(itc_narmada)\n",
        "itc_narmada['Hotel_Name']='ITC Narmada'"
      ],
      "metadata": {
        "id": "6mDfn64NtJr6"
      },
      "execution_count": 15,
      "outputs": []
    },
    {
      "cell_type": "code",
      "source": [
        "lt=lt['Review']\n",
        "lt=pd.DataFrame(lt)\n",
        "lt['Hotel_Name']='Lemon Tree Premier, The Atrium'\n",
        "lt.dropna(inplace=True)"
      ],
      "metadata": {
        "id": "0w3eHubatLgS"
      },
      "execution_count": 16,
      "outputs": []
    },
    {
      "cell_type": "code",
      "source": [
        "novotel=novotel['Review']\n",
        "novotel=pd.DataFrame(novotel)\n",
        "novotel['Hotel_Name']='Novotel'\n",
        "novotel.dropna(inplace=True)"
      ],
      "metadata": {
        "id": "lItw-np5tPte"
      },
      "execution_count": 17,
      "outputs": []
    },
    {
      "cell_type": "code",
      "source": [
        "pride_plaza=pride_plaza['Review']\n",
        "pride_plaza=pd.DataFrame(pride_plaza)\n",
        "pride_plaza['Hotel_Name']='Pride Plaza'\n",
        "pride_plaza.dropna(inplace=True)"
      ],
      "metadata": {
        "id": "G0acTAgHtVjl"
      },
      "execution_count": 18,
      "outputs": []
    },
    {
      "cell_type": "code",
      "source": [
        "rb=rb['Review']\n",
        "rb=pd.DataFrame(rb)\n",
        "rb['Hotel_Name']='Radisson Blu'"
      ],
      "metadata": {
        "id": "49WVRfO5tXi8"
      },
      "execution_count": 19,
      "outputs": []
    },
    {
      "cell_type": "code",
      "source": [
        "taj=taj['Reviews']\n",
        "taj=pd.DataFrame(taj)\n",
        "taj.rename(columns={'Reviews':'Review'},inplace=True)\n",
        "taj['Hotel_Name']='Taj'"
      ],
      "metadata": {
        "id": "0kIlpjRdtZlF"
      },
      "execution_count": 20,
      "outputs": []
    },
    {
      "cell_type": "code",
      "source": [
        "vivanta=vivanta.rename(columns={'Review ':'Review'})\n",
        "vivanta=vivanta['Review']\n",
        "vivanta=pd.DataFrame(vivanta)\n",
        "vivanta['Hotel_Name']='Vivanta'\n",
        "vivanta.dropna(inplace=True)"
      ],
      "metadata": {
        "id": "FPIsFsLNtbKc"
      },
      "execution_count": 21,
      "outputs": []
    },
    {
      "cell_type": "code",
      "source": [
        "renaissance=renaissance.rename(columns={'Reviews':'Review'})\n",
        "renaissance=renaissance['Review']\n",
        "renaissance=pd.DataFrame(renaissance)\n",
        "renaissance['Hotel_Name']='Renaissance'\n",
        "renaissance.dropna(inplace=True)\n"
      ],
      "metadata": {
        "id": "wvy5WwrDtdtn"
      },
      "execution_count": 22,
      "outputs": []
    },
    {
      "cell_type": "code",
      "source": [
        "hotel_df=pd.concat([binori,courtyard_sbr,crown_plaza,dt,ff_marriott,fortune_select,holiInn_prahald,hyatt,itc_narmada,lt,novotel,pride_plaza,rb,taj,vivanta,courtyard_marriott,ramada,renaissance])"
      ],
      "metadata": {
        "id": "1Zxse_sutf1R"
      },
      "execution_count": 23,
      "outputs": []
    },
    {
      "cell_type": "code",
      "source": [
        "cama=cama['Review']\n",
        "cama=pd.DataFrame(cama)\n",
        "cama['Hotel_Name']='Cama'\n",
        "cama.dropna(inplace=True)"
      ],
      "metadata": {
        "id": "TZVn0tj3tk31"
      },
      "execution_count": 24,
      "outputs": []
    },
    {
      "cell_type": "code",
      "source": [
        "cambay=cambay['Review']\n",
        "cambay=pd.DataFrame(cambay)\n",
        "cambay['Hotel_Name']='Cambay Grand'\n",
        "cambay.dropna(inplace=True)"
      ],
      "metadata": {
        "id": "jZh1A1B2tqDh"
      },
      "execution_count": 25,
      "outputs": []
    },
    {
      "cell_type": "code",
      "source": [
        "fourtune_park=fourtune_park['Review']\n",
        "fourtune_park=pd.DataFrame(fourtune_park)\n",
        "fourtune_park['Hotel_Name']='Fortune Park'\n",
        "fourtune_park.dropna(inplace=True)"
      ],
      "metadata": {
        "id": "VWgs_OLZtqWN"
      },
      "execution_count": 26,
      "outputs": []
    },
    {
      "cell_type": "code",
      "source": [
        "four_points=four_points['Review']\n",
        "four_points=pd.DataFrame(four_points)\n",
        "four_points['Hotel_Name']='Four Points'\n",
        "four_points.dropna(inplace=True)"
      ],
      "metadata": {
        "id": "-nSGx1bGtsMp"
      },
      "execution_count": 27,
      "outputs": []
    },
    {
      "cell_type": "code",
      "source": [
        "hillock=hillock['Review']\n",
        "hillock=pd.DataFrame(hillock)\n",
        "hillock['Hotel_Name']='Hillock'\n",
        "hillock.dropna(inplace=True)"
      ],
      "metadata": {
        "id": "tilRuWwntuRv"
      },
      "execution_count": 28,
      "outputs": []
    },
    {
      "cell_type": "code",
      "source": [
        "mg=mg['Review']\n",
        "mg=pd.DataFrame(mg)\n",
        "mg['Hotel_Name']='House of MG'\n",
        "mg.dropna(inplace=True)"
      ],
      "metadata": {
        "id": "TlayN2HjtxPt"
      },
      "execution_count": 29,
      "outputs": []
    },
    {
      "cell_type": "code",
      "source": [
        "metropole=metropole['Review']\n",
        "metropole=pd.DataFrame(metropole)\n",
        "metropole['Hotel_Name']='Metropole'\n",
        "metropole.dropna(inplace=True)"
      ],
      "metadata": {
        "id": "DOHHp3WltziY"
      },
      "execution_count": 30,
      "outputs": []
    },
    {
      "cell_type": "code",
      "source": [
        "hyatt_regency=hyatt_regency['Review']\n",
        "hyatt_regency=pd.DataFrame(hyatt_regency)\n",
        "hyatt_regency['Hotel_Name']='Hyatt Regency'\n",
        "hyatt_regency.dropna(inplace=True)"
      ],
      "metadata": {
        "id": "Z0sPwwpvt1T3"
      },
      "execution_count": 31,
      "outputs": []
    },
    {
      "cell_type": "code",
      "source": [
        "president=president['Review']\n",
        "president=pd.DataFrame(president)\n",
        "president['Hotel_Name']='The President'\n",
        "president.dropna(inplace=True)"
      ],
      "metadata": {
        "id": "qKp8n7IRt3O_"
      },
      "execution_count": 32,
      "outputs": []
    },
    {
      "cell_type": "code",
      "source": [
        "regenta=regenta['Review']\n",
        "regenta=pd.DataFrame(regenta)\n",
        "regenta['Hotel_Name']='Regenta Central'\n",
        "regenta.dropna(inplace=True)\n"
      ],
      "metadata": {
        "id": "EIlG1QdRt4-p"
      },
      "execution_count": 33,
      "outputs": []
    },
    {
      "cell_type": "code",
      "source": [
        "welcomes=welcomes['Review']\n",
        "welcomes=pd.DataFrame(welcomes)\n",
        "welcomes['Hotel_Name']='WelcomHotel ITC'\n",
        "welcomes.dropna(inplace=True)\n"
      ],
      "metadata": {
        "id": "eVCqIzfZuBeb"
      },
      "execution_count": 35,
      "outputs": []
    },
    {
      "cell_type": "code",
      "source": [
        "ummed=ummed['Review']\n",
        "ummed=pd.DataFrame(ummed)\n",
        "ummed['Hotel_Name']='The Ummed'\n",
        "ummed.dropna(inplace=True)"
      ],
      "metadata": {
        "id": "NFEifk9ssNKR"
      },
      "execution_count": 34,
      "outputs": []
    },
    {
      "cell_type": "code",
      "source": [
        "wyndham=wyndham['Review']\n",
        "wyndham=pd.DataFrame(wyndham)\n",
        "wyndham['Hotel_Name']='Wyndham'\n",
        "wyndham.dropna(inplace=True)"
      ],
      "metadata": {
        "id": "orShkvBVuEn9"
      },
      "execution_count": 36,
      "outputs": []
    },
    {
      "cell_type": "code",
      "source": [
        "fortune_landmark=fortune_landmark['Review']\n",
        "fortune_landmark=pd.DataFrame(fortune_landmark)\n",
        "fortune_landmark['Hotel_Name']='Fortune Landmark'\n",
        "fortune_landmark.dropna(inplace=True)"
      ],
      "metadata": {
        "id": "UzSMZjaDuIf8"
      },
      "execution_count": 37,
      "outputs": []
    },
    {
      "cell_type": "code",
      "source": [
        "hotel_df2=pd.concat([cama,cambay,fourtune_park,four_points,hillock,mg,hyatt_regency,metropole,president,regenta,ummed,welcomes,wyndham,fortune_landmark])"
      ],
      "metadata": {
        "id": "cKOyh4LTuKRB"
      },
      "execution_count": 48,
      "outputs": []
    },
    {
      "cell_type": "code",
      "source": [
        "final_hotel_df=pd.concat([hotel_df,hotel_df2])"
      ],
      "metadata": {
        "id": "jQSgA8iUuMCM"
      },
      "execution_count": 39,
      "outputs": []
    },
    {
      "cell_type": "code",
      "source": [
        "hotel_df2.reset_index(drop=True,inplace=True)"
      ],
      "metadata": {
        "id": "HWKlJFs_uOd8"
      },
      "execution_count": 40,
      "outputs": []
    },
    {
      "cell_type": "code",
      "source": [
        "final_hotel_df.reset_index(drop=True,inplace=True)"
      ],
      "metadata": {
        "id": "xDkiwZBPuQe0"
      },
      "execution_count": 42,
      "outputs": []
    },
    {
      "cell_type": "code",
      "source": [
        "final_hotel_df"
      ],
      "metadata": {
        "colab": {
          "base_uri": "https://localhost:8080/",
          "height": 423
        },
        "id": "on9GPIKRuVYt",
        "outputId": "864d7917-6348-4486-bfd2-2991fdb1c9ee"
      },
      "execution_count": 43,
      "outputs": [
        {
          "output_type": "execute_result",
          "data": {
            "text/plain": [
              "                                                 Review        Hotel_Name\n",
              "0     It was a great experience to have all differen...            Binori\n",
              "1     Disappointing Experience at Pol21. A Multi-Cui...            Binori\n",
              "2     Indulging in a recent buffet dinner was an abs...            Binori\n",
              "3     Calling this a 4-star hotel is a big joke.\\nI ...            Binori\n",
              "4     Excellent food excellent stay. Spacious rooms ...            Binori\n",
              "...                                                 ...               ...\n",
              "6263             Vintage aesthetics are very attractive  Fortune Landmark\n",
              "6264                                          Wow hotel  Fortune Landmark\n",
              "6265                              Nat vihebair staff ok  Fortune Landmark\n",
              "6266                                 Such a bad hotel..  Fortune Landmark\n",
              "6267                            The staff are friendly.  Fortune Landmark\n",
              "\n",
              "[6268 rows x 2 columns]"
            ],
            "text/html": [
              "\n",
              "  <div id=\"df-f717c9be-e554-4f43-be9e-c0c8d4cf07f9\" class=\"colab-df-container\">\n",
              "    <div>\n",
              "<style scoped>\n",
              "    .dataframe tbody tr th:only-of-type {\n",
              "        vertical-align: middle;\n",
              "    }\n",
              "\n",
              "    .dataframe tbody tr th {\n",
              "        vertical-align: top;\n",
              "    }\n",
              "\n",
              "    .dataframe thead th {\n",
              "        text-align: right;\n",
              "    }\n",
              "</style>\n",
              "<table border=\"1\" class=\"dataframe\">\n",
              "  <thead>\n",
              "    <tr style=\"text-align: right;\">\n",
              "      <th></th>\n",
              "      <th>Review</th>\n",
              "      <th>Hotel_Name</th>\n",
              "    </tr>\n",
              "  </thead>\n",
              "  <tbody>\n",
              "    <tr>\n",
              "      <th>0</th>\n",
              "      <td>It was a great experience to have all differen...</td>\n",
              "      <td>Binori</td>\n",
              "    </tr>\n",
              "    <tr>\n",
              "      <th>1</th>\n",
              "      <td>Disappointing Experience at Pol21. A Multi-Cui...</td>\n",
              "      <td>Binori</td>\n",
              "    </tr>\n",
              "    <tr>\n",
              "      <th>2</th>\n",
              "      <td>Indulging in a recent buffet dinner was an abs...</td>\n",
              "      <td>Binori</td>\n",
              "    </tr>\n",
              "    <tr>\n",
              "      <th>3</th>\n",
              "      <td>Calling this a 4-star hotel is a big joke.\\nI ...</td>\n",
              "      <td>Binori</td>\n",
              "    </tr>\n",
              "    <tr>\n",
              "      <th>4</th>\n",
              "      <td>Excellent food excellent stay. Spacious rooms ...</td>\n",
              "      <td>Binori</td>\n",
              "    </tr>\n",
              "    <tr>\n",
              "      <th>...</th>\n",
              "      <td>...</td>\n",
              "      <td>...</td>\n",
              "    </tr>\n",
              "    <tr>\n",
              "      <th>6263</th>\n",
              "      <td>Vintage aesthetics are very attractive</td>\n",
              "      <td>Fortune Landmark</td>\n",
              "    </tr>\n",
              "    <tr>\n",
              "      <th>6264</th>\n",
              "      <td>Wow hotel</td>\n",
              "      <td>Fortune Landmark</td>\n",
              "    </tr>\n",
              "    <tr>\n",
              "      <th>6265</th>\n",
              "      <td>Nat vihebair staff ok</td>\n",
              "      <td>Fortune Landmark</td>\n",
              "    </tr>\n",
              "    <tr>\n",
              "      <th>6266</th>\n",
              "      <td>Such a bad hotel..</td>\n",
              "      <td>Fortune Landmark</td>\n",
              "    </tr>\n",
              "    <tr>\n",
              "      <th>6267</th>\n",
              "      <td>The staff are friendly.</td>\n",
              "      <td>Fortune Landmark</td>\n",
              "    </tr>\n",
              "  </tbody>\n",
              "</table>\n",
              "<p>6268 rows × 2 columns</p>\n",
              "</div>\n",
              "    <div class=\"colab-df-buttons\">\n",
              "\n",
              "  <div class=\"colab-df-container\">\n",
              "    <button class=\"colab-df-convert\" onclick=\"convertToInteractive('df-f717c9be-e554-4f43-be9e-c0c8d4cf07f9')\"\n",
              "            title=\"Convert this dataframe to an interactive table.\"\n",
              "            style=\"display:none;\">\n",
              "\n",
              "  <svg xmlns=\"http://www.w3.org/2000/svg\" height=\"24px\" viewBox=\"0 -960 960 960\">\n",
              "    <path d=\"M120-120v-720h720v720H120Zm60-500h600v-160H180v160Zm220 220h160v-160H400v160Zm0 220h160v-160H400v160ZM180-400h160v-160H180v160Zm440 0h160v-160H620v160ZM180-180h160v-160H180v160Zm440 0h160v-160H620v160Z\"/>\n",
              "  </svg>\n",
              "    </button>\n",
              "\n",
              "  <style>\n",
              "    .colab-df-container {\n",
              "      display:flex;\n",
              "      gap: 12px;\n",
              "    }\n",
              "\n",
              "    .colab-df-convert {\n",
              "      background-color: #E8F0FE;\n",
              "      border: none;\n",
              "      border-radius: 50%;\n",
              "      cursor: pointer;\n",
              "      display: none;\n",
              "      fill: #1967D2;\n",
              "      height: 32px;\n",
              "      padding: 0 0 0 0;\n",
              "      width: 32px;\n",
              "    }\n",
              "\n",
              "    .colab-df-convert:hover {\n",
              "      background-color: #E2EBFA;\n",
              "      box-shadow: 0px 1px 2px rgba(60, 64, 67, 0.3), 0px 1px 3px 1px rgba(60, 64, 67, 0.15);\n",
              "      fill: #174EA6;\n",
              "    }\n",
              "\n",
              "    .colab-df-buttons div {\n",
              "      margin-bottom: 4px;\n",
              "    }\n",
              "\n",
              "    [theme=dark] .colab-df-convert {\n",
              "      background-color: #3B4455;\n",
              "      fill: #D2E3FC;\n",
              "    }\n",
              "\n",
              "    [theme=dark] .colab-df-convert:hover {\n",
              "      background-color: #434B5C;\n",
              "      box-shadow: 0px 1px 3px 1px rgba(0, 0, 0, 0.15);\n",
              "      filter: drop-shadow(0px 1px 2px rgba(0, 0, 0, 0.3));\n",
              "      fill: #FFFFFF;\n",
              "    }\n",
              "  </style>\n",
              "\n",
              "    <script>\n",
              "      const buttonEl =\n",
              "        document.querySelector('#df-f717c9be-e554-4f43-be9e-c0c8d4cf07f9 button.colab-df-convert');\n",
              "      buttonEl.style.display =\n",
              "        google.colab.kernel.accessAllowed ? 'block' : 'none';\n",
              "\n",
              "      async function convertToInteractive(key) {\n",
              "        const element = document.querySelector('#df-f717c9be-e554-4f43-be9e-c0c8d4cf07f9');\n",
              "        const dataTable =\n",
              "          await google.colab.kernel.invokeFunction('convertToInteractive',\n",
              "                                                    [key], {});\n",
              "        if (!dataTable) return;\n",
              "\n",
              "        const docLinkHtml = 'Like what you see? Visit the ' +\n",
              "          '<a target=\"_blank\" href=https://colab.research.google.com/notebooks/data_table.ipynb>data table notebook</a>'\n",
              "          + ' to learn more about interactive tables.';\n",
              "        element.innerHTML = '';\n",
              "        dataTable['output_type'] = 'display_data';\n",
              "        await google.colab.output.renderOutput(dataTable, element);\n",
              "        const docLink = document.createElement('div');\n",
              "        docLink.innerHTML = docLinkHtml;\n",
              "        element.appendChild(docLink);\n",
              "      }\n",
              "    </script>\n",
              "  </div>\n",
              "\n",
              "\n",
              "<div id=\"df-4a719fb6-22b6-4ddd-b89a-10f2107eddf5\">\n",
              "  <button class=\"colab-df-quickchart\" onclick=\"quickchart('df-4a719fb6-22b6-4ddd-b89a-10f2107eddf5')\"\n",
              "            title=\"Suggest charts\"\n",
              "            style=\"display:none;\">\n",
              "\n",
              "<svg xmlns=\"http://www.w3.org/2000/svg\" height=\"24px\"viewBox=\"0 0 24 24\"\n",
              "     width=\"24px\">\n",
              "    <g>\n",
              "        <path d=\"M19 3H5c-1.1 0-2 .9-2 2v14c0 1.1.9 2 2 2h14c1.1 0 2-.9 2-2V5c0-1.1-.9-2-2-2zM9 17H7v-7h2v7zm4 0h-2V7h2v10zm4 0h-2v-4h2v4z\"/>\n",
              "    </g>\n",
              "</svg>\n",
              "  </button>\n",
              "\n",
              "<style>\n",
              "  .colab-df-quickchart {\n",
              "      --bg-color: #E8F0FE;\n",
              "      --fill-color: #1967D2;\n",
              "      --hover-bg-color: #E2EBFA;\n",
              "      --hover-fill-color: #174EA6;\n",
              "      --disabled-fill-color: #AAA;\n",
              "      --disabled-bg-color: #DDD;\n",
              "  }\n",
              "\n",
              "  [theme=dark] .colab-df-quickchart {\n",
              "      --bg-color: #3B4455;\n",
              "      --fill-color: #D2E3FC;\n",
              "      --hover-bg-color: #434B5C;\n",
              "      --hover-fill-color: #FFFFFF;\n",
              "      --disabled-bg-color: #3B4455;\n",
              "      --disabled-fill-color: #666;\n",
              "  }\n",
              "\n",
              "  .colab-df-quickchart {\n",
              "    background-color: var(--bg-color);\n",
              "    border: none;\n",
              "    border-radius: 50%;\n",
              "    cursor: pointer;\n",
              "    display: none;\n",
              "    fill: var(--fill-color);\n",
              "    height: 32px;\n",
              "    padding: 0;\n",
              "    width: 32px;\n",
              "  }\n",
              "\n",
              "  .colab-df-quickchart:hover {\n",
              "    background-color: var(--hover-bg-color);\n",
              "    box-shadow: 0 1px 2px rgba(60, 64, 67, 0.3), 0 1px 3px 1px rgba(60, 64, 67, 0.15);\n",
              "    fill: var(--button-hover-fill-color);\n",
              "  }\n",
              "\n",
              "  .colab-df-quickchart-complete:disabled,\n",
              "  .colab-df-quickchart-complete:disabled:hover {\n",
              "    background-color: var(--disabled-bg-color);\n",
              "    fill: var(--disabled-fill-color);\n",
              "    box-shadow: none;\n",
              "  }\n",
              "\n",
              "  .colab-df-spinner {\n",
              "    border: 2px solid var(--fill-color);\n",
              "    border-color: transparent;\n",
              "    border-bottom-color: var(--fill-color);\n",
              "    animation:\n",
              "      spin 1s steps(1) infinite;\n",
              "  }\n",
              "\n",
              "  @keyframes spin {\n",
              "    0% {\n",
              "      border-color: transparent;\n",
              "      border-bottom-color: var(--fill-color);\n",
              "      border-left-color: var(--fill-color);\n",
              "    }\n",
              "    20% {\n",
              "      border-color: transparent;\n",
              "      border-left-color: var(--fill-color);\n",
              "      border-top-color: var(--fill-color);\n",
              "    }\n",
              "    30% {\n",
              "      border-color: transparent;\n",
              "      border-left-color: var(--fill-color);\n",
              "      border-top-color: var(--fill-color);\n",
              "      border-right-color: var(--fill-color);\n",
              "    }\n",
              "    40% {\n",
              "      border-color: transparent;\n",
              "      border-right-color: var(--fill-color);\n",
              "      border-top-color: var(--fill-color);\n",
              "    }\n",
              "    60% {\n",
              "      border-color: transparent;\n",
              "      border-right-color: var(--fill-color);\n",
              "    }\n",
              "    80% {\n",
              "      border-color: transparent;\n",
              "      border-right-color: var(--fill-color);\n",
              "      border-bottom-color: var(--fill-color);\n",
              "    }\n",
              "    90% {\n",
              "      border-color: transparent;\n",
              "      border-bottom-color: var(--fill-color);\n",
              "    }\n",
              "  }\n",
              "</style>\n",
              "\n",
              "  <script>\n",
              "    async function quickchart(key) {\n",
              "      const quickchartButtonEl =\n",
              "        document.querySelector('#' + key + ' button');\n",
              "      quickchartButtonEl.disabled = true;  // To prevent multiple clicks.\n",
              "      quickchartButtonEl.classList.add('colab-df-spinner');\n",
              "      try {\n",
              "        const charts = await google.colab.kernel.invokeFunction(\n",
              "            'suggestCharts', [key], {});\n",
              "      } catch (error) {\n",
              "        console.error('Error during call to suggestCharts:', error);\n",
              "      }\n",
              "      quickchartButtonEl.classList.remove('colab-df-spinner');\n",
              "      quickchartButtonEl.classList.add('colab-df-quickchart-complete');\n",
              "    }\n",
              "    (() => {\n",
              "      let quickchartButtonEl =\n",
              "        document.querySelector('#df-4a719fb6-22b6-4ddd-b89a-10f2107eddf5 button');\n",
              "      quickchartButtonEl.style.display =\n",
              "        google.colab.kernel.accessAllowed ? 'block' : 'none';\n",
              "    })();\n",
              "  </script>\n",
              "</div>\n",
              "\n",
              "  <div id=\"id_58abb1a9-4e70-49ed-a257-a2001f0c9a88\">\n",
              "    <style>\n",
              "      .colab-df-generate {\n",
              "        background-color: #E8F0FE;\n",
              "        border: none;\n",
              "        border-radius: 50%;\n",
              "        cursor: pointer;\n",
              "        display: none;\n",
              "        fill: #1967D2;\n",
              "        height: 32px;\n",
              "        padding: 0 0 0 0;\n",
              "        width: 32px;\n",
              "      }\n",
              "\n",
              "      .colab-df-generate:hover {\n",
              "        background-color: #E2EBFA;\n",
              "        box-shadow: 0px 1px 2px rgba(60, 64, 67, 0.3), 0px 1px 3px 1px rgba(60, 64, 67, 0.15);\n",
              "        fill: #174EA6;\n",
              "      }\n",
              "\n",
              "      [theme=dark] .colab-df-generate {\n",
              "        background-color: #3B4455;\n",
              "        fill: #D2E3FC;\n",
              "      }\n",
              "\n",
              "      [theme=dark] .colab-df-generate:hover {\n",
              "        background-color: #434B5C;\n",
              "        box-shadow: 0px 1px 3px 1px rgba(0, 0, 0, 0.15);\n",
              "        filter: drop-shadow(0px 1px 2px rgba(0, 0, 0, 0.3));\n",
              "        fill: #FFFFFF;\n",
              "      }\n",
              "    </style>\n",
              "    <button class=\"colab-df-generate\" onclick=\"generateWithVariable('final_hotel_df')\"\n",
              "            title=\"Generate code using this dataframe.\"\n",
              "            style=\"display:none;\">\n",
              "\n",
              "  <svg xmlns=\"http://www.w3.org/2000/svg\" height=\"24px\"viewBox=\"0 0 24 24\"\n",
              "       width=\"24px\">\n",
              "    <path d=\"M7,19H8.4L18.45,9,17,7.55,7,17.6ZM5,21V16.75L18.45,3.32a2,2,0,0,1,2.83,0l1.4,1.43a1.91,1.91,0,0,1,.58,1.4,1.91,1.91,0,0,1-.58,1.4L9.25,21ZM18.45,9,17,7.55Zm-12,3A5.31,5.31,0,0,0,4.9,8.1,5.31,5.31,0,0,0,1,6.5,5.31,5.31,0,0,0,4.9,4.9,5.31,5.31,0,0,0,6.5,1,5.31,5.31,0,0,0,8.1,4.9,5.31,5.31,0,0,0,12,6.5,5.46,5.46,0,0,0,6.5,12Z\"/>\n",
              "  </svg>\n",
              "    </button>\n",
              "    <script>\n",
              "      (() => {\n",
              "      const buttonEl =\n",
              "        document.querySelector('#id_58abb1a9-4e70-49ed-a257-a2001f0c9a88 button.colab-df-generate');\n",
              "      buttonEl.style.display =\n",
              "        google.colab.kernel.accessAllowed ? 'block' : 'none';\n",
              "\n",
              "      buttonEl.onclick = () => {\n",
              "        google.colab.notebook.generateWithVariable('final_hotel_df');\n",
              "      }\n",
              "      })();\n",
              "    </script>\n",
              "  </div>\n",
              "\n",
              "    </div>\n",
              "  </div>\n"
            ],
            "application/vnd.google.colaboratory.intrinsic+json": {
              "type": "dataframe",
              "variable_name": "final_hotel_df",
              "summary": "{\n  \"name\": \"final_hotel_df\",\n  \"rows\": 6268,\n  \"fields\": [\n    {\n      \"column\": \"Review\",\n      \"properties\": {\n        \"dtype\": \"string\",\n        \"num_unique_values\": 6248,\n        \"samples\": [\n          \"Great and hassle free checking by ms gitali at front desk.\\nLooking forward the same consistency.\",\n          \"Staff needs more training over how to handle a customer, be more gentle. Rather than being racist or discriminative. They look at you like you don\\u2019t have a class to stay there or be there. Didn\\u2019t like how they address or talk to you about an issue or help.\",\n          \"Stuff are very friendly, when I asked for vegan options they helped me and made some amazing dishes. I'm very happy to be here. Would recommend to vegans when in Ahmadabad.  If you love Indian vegetarian good, this is the city for you!\"\n        ],\n        \"semantic_type\": \"\",\n        \"description\": \"\"\n      }\n    },\n    {\n      \"column\": \"Hotel_Name\",\n      \"properties\": {\n        \"dtype\": \"category\",\n        \"num_unique_values\": 32,\n        \"samples\": [\n          \"WelcomHotel ITC\",\n          \"Courtyard Marriott\",\n          \"Hyatt Regency\"\n        ],\n        \"semantic_type\": \"\",\n        \"description\": \"\"\n      }\n    }\n  ]\n}"
            }
          },
          "metadata": {},
          "execution_count": 43
        }
      ]
    },
    {
      "cell_type": "code",
      "source": [
        "def truncate_reviews(df, review_column, max_length=512):\n",
        "    \"\"\"\n",
        "    Truncate reviews in the dataframe that exceed the maximum token length of 512 tokens.\n",
        "\n",
        "    Args:\n",
        "        df (pd.DataFrame): The DataFrame containing the reviews.\n",
        "        review_column (str): The name of the column containing reviews.\n",
        "        max_length (int): The maximum number of tokens allowed (default: 512).\n",
        "\n",
        "    Returns:\n",
        "        pd.DataFrame: DataFrame with truncated reviews where applicable.\n",
        "    \"\"\"\n",
        "    # Initialize the DistilBERT tokenizer\n",
        "    tokenizer = DistilBertTokenizer.from_pretrained('distilbert-base-uncased')\n",
        "\n",
        "    # Function to tokenize and truncate review if its token length exceeds max_length\n",
        "    def truncate_review(review):\n",
        "        # Tokenize the review and check its token length\n",
        "        tokens = tokenizer.tokenize(review)\n",
        "        if len(tokens) > max_length:\n",
        "            # Truncate the tokens to max_length\n",
        "            truncated_tokens = tokens[:max_length]\n",
        "            # Convert tokens back to string\n",
        "            truncated_review = tokenizer.convert_tokens_to_string(truncated_tokens)\n",
        "            return truncated_review\n",
        "        else:\n",
        "            # Return the review as is if it does not exceed max_length\n",
        "            return review\n",
        "\n",
        "    # Apply the truncate function to the review column\n",
        "    df[review_column] = df[review_column].apply(truncate_review)\n",
        "\n",
        "    return df"
      ],
      "metadata": {
        "id": "nAw7IwR7uXGr"
      },
      "execution_count": 44,
      "outputs": []
    },
    {
      "cell_type": "code",
      "source": [
        "import pandas as pd\n",
        "from sklearn.feature_extraction.text import CountVectorizer\n",
        "\n",
        "def create_vocabulary(dataframe, column_name):\n",
        "    # Combine all reviews into a single text\n",
        "    all_reviews = \" \".join(dataframe[column_name].astype(str))\n",
        "\n",
        "    # Use CountVectorizer to tokenize and extract unique words\n",
        "    vectorizer = CountVectorizer()\n",
        "    vectorizer.fit([all_reviews])\n",
        "\n",
        "    # Get the vocabulary\n",
        "    vocabulary = sorted(vectorizer.get_feature_names_out())\n",
        "    return vocabulary"
      ],
      "metadata": {
        "id": "Rd15gMhaub9E"
      },
      "execution_count": 46,
      "outputs": []
    },
    {
      "cell_type": "code",
      "source": [
        "list1=[binori,courtyard_sbr,crown_plaza,dt,ff_marriott,fortune_select,holiInn_prahald,hyatt,itc_narmada,lt,novotel,pride_plaza,rb,taj,vivanta,courtyard_marriott,ramada,renaissance]\n",
        "for i in list1:\n",
        "  i=truncate_reviews(i,'CleanedReview')\n",
        "list2=[cama,cambay,fourtune_park,four_points,hillock,mg,hyatt_regency,metropole,president,regenta,ummed,welcomes,wyndham,fortune_landmark]\n",
        "for i in list2:\n",
        "  i=truncate_reviews(i,'CleanedReview')"
      ],
      "metadata": {
        "id": "ju-UG6IIuxOG"
      },
      "execution_count": 75,
      "outputs": []
    },
    {
      "cell_type": "code",
      "source": [
        "hotel_df=pd.concat([binori,courtyard_sbr,crown_plaza,dt,ff_marriott,fortune_select,holiInn_prahald,hyatt,itc_narmada,lt,novotel,pride_plaza,rb,taj,vivanta,courtyard_marriott,ramada,renaissance])\n",
        "\n",
        "hotel_df2=pd.concat([cama,cambay,fourtune_park,four_points,hillock,mg,hyatt_regency,metropole,president,regenta,ummed,welcomes,wyndham,fortune_landmark])\n",
        "\n",
        "final_hotel_df=pd.concat([hotel_df,hotel_df2])"
      ],
      "metadata": {
        "id": "kAIY0KdDu61_"
      },
      "execution_count": 49,
      "outputs": []
    },
    {
      "cell_type": "code",
      "source": [
        "hotel_vocabulary = create_vocabulary(final_hotel_df, 'Review')\n",
        "\n",
        "# Print the size of the vocabulary and first few unique words\n",
        "print(f\"Vocabulary Size: {len(hotel_vocabulary)}\")"
      ],
      "metadata": {
        "colab": {
          "base_uri": "https://localhost:8080/"
        },
        "id": "grkmGG8kvQ0O",
        "outputId": "a40f25b4-c4d8-4a81-b896-8a596d0869c7"
      },
      "execution_count": 51,
      "outputs": [
        {
          "output_type": "stream",
          "name": "stdout",
          "text": [
            "Vocabulary Size: 12978\n"
          ]
        }
      ]
    },
    {
      "cell_type": "code",
      "source": [
        "from collections import Counter\n",
        "from nltk.corpus import stopwords\n",
        "import nltk\n",
        "\n",
        "# Download the stop words if not already available\n",
        "nltk.download('stopwords')\n",
        "\n",
        "def count_word_frequencies_no_stopwords(dataframe, column_name):\n",
        "    # Combine all reviews into a single text\n",
        "    all_reviews = \" \".join(dataframe[column_name].astype(str))\n",
        "\n",
        "    # Tokenize the text into words\n",
        "    words = all_reviews.split()\n",
        "\n",
        "    # Load English stop words\n",
        "    stop_words = set(stopwords.words('english'))\n",
        "\n",
        "    # Remove stop words\n",
        "    filtered_words = [word for word in words if word.lower() not in stop_words]\n",
        "\n",
        "    # Count the frequency of each word\n",
        "    word_frequencies = Counter(filtered_words)\n",
        "\n",
        "    # Get the 20 most frequent words\n",
        "    most_frequent_words = word_frequencies.most_common(200)\n",
        "\n",
        "    return word_frequencies, most_frequent_words\n",
        "\n",
        "# Example usage\n",
        "word_frequencies, most_frequent_words = count_word_frequencies_no_stopwords(final_hotel_df, 'Review')\n",
        "\n",
        "# Print the 20 most frequent words\n",
        "print(\"Top 20 Most Frequent Words (Without Stop Words):\")\n",
        "for word, freq in most_frequent_words:\n",
        "    print(f\"{word}: {freq}\")\n"
      ],
      "metadata": {
        "colab": {
          "base_uri": "https://localhost:8080/"
        },
        "id": "SgFkmJX1vVCL",
        "outputId": "b9bc5c15-acaa-4427-8055-d09bfa7e4080"
      },
      "execution_count": 57,
      "outputs": [
        {
          "output_type": "stream",
          "name": "stderr",
          "text": [
            "[nltk_data] Downloading package stopwords to /root/nltk_data...\n",
            "[nltk_data]   Package stopwords is already up-to-date!\n"
          ]
        },
        {
          "output_type": "stream",
          "name": "stdout",
          "text": [
            "Top 20 Most Frequent Words (Without Stop Words):\n",
            "hotel: 2643\n",
            "good: 2311\n",
            "staff: 2141\n",
            "food: 1864\n",
            "service: 1705\n",
            "room: 1625\n",
            "stay: 1604\n",
            "rooms: 1106\n",
            "also: 1058\n",
            "experience: 1026\n",
            ".: 1019\n",
            "place: 867\n",
            "one: 820\n",
            "great: 800\n",
            ",: 796\n",
            "like: 743\n",
            "breakfast: 703\n",
            "well: 683\n",
            "good.: 649\n",
            "really: 635\n",
            "Food: 634\n",
            "nice: 605\n",
            "restaurant: 587\n",
            "us: 565\n",
            "hotel.: 544\n",
            "best: 530\n",
            "would: 526\n",
            "Good: 525\n",
            "time: 522\n",
            "even: 519\n",
            "&: 505\n",
            "Ahmedabad: 497\n",
            "Hotel: 486\n",
            "-: 463\n",
            "clean: 456\n",
            "Rooms: 450\n",
            "recommend: 437\n",
            "experience.: 425\n",
            "buffet: 413\n",
            "location: 410\n",
            "service.: 408\n",
            "excellent: 407\n",
            "visit: 407\n",
            "quality: 403\n",
            "made: 399\n",
            "dinner: 384\n",
            "stay.: 383\n",
            "stayed: 382\n",
            "Staff: 374\n",
            "star: 369\n",
            "get: 352\n",
            "comfortable: 342\n",
            "hospitality: 341\n",
            "reception: 341\n",
            "amazing: 333\n",
            "property: 331\n",
            "team: 324\n",
            "helpful: 315\n",
            "5: 315\n",
            "check: 312\n",
            "business: 305\n",
            "front: 304\n",
            "Ahmedabad.: 301\n",
            "much: 299\n",
            "every: 292\n",
            "Great: 290\n",
            "Overall: 288\n",
            "staff.: 283\n",
            "2: 281\n",
            "went: 277\n",
            "services: 277\n",
            "feel: 276\n",
            "Service: 275\n",
            "food.: 274\n",
            "make: 266\n",
            "friendly: 265\n",
            "Nice: 265\n",
            "always: 261\n",
            "dining: 260\n",
            "Room: 260\n",
            "go: 258\n",
            "could: 255\n",
            "thanks: 254\n",
            "care: 249\n",
            "need: 243\n",
            "polite: 242\n",
            "small: 241\n",
            "delicious: 241\n",
            "Breakfast: 241\n",
            "bad: 237\n",
            "people: 237\n",
            "provided: 236\n",
            "water: 235\n",
            "Excellent: 234\n",
            "better: 233\n",
            "desk: 232\n",
            "One: 232\n",
            "area: 232\n",
            "day: 229\n",
            "staying: 229\n",
            "Mr.: 227\n",
            "spacious: 227\n",
            "ambience: 227\n",
            "many: 227\n",
            "room.: 224\n",
            "everything: 221\n",
            "asked: 221\n",
            "family: 221\n",
            "take: 218\n",
            "served: 216\n",
            "give: 215\n",
            "special: 214\n",
            "options: 214\n",
            "wonderful: 213\n",
            "definitely: 212\n",
            "amenities: 210\n",
            "Thank: 209\n",
            "quite: 207\n",
            "pool: 205\n",
            "took: 205\n",
            "courteous: 204\n",
            "here.: 203\n",
            "guests: 203\n",
            "view: 203\n",
            "come: 202\n",
            "Mr: 202\n",
            "hotels: 201\n",
            "got: 200\n",
            "taste: 197\n",
            "making: 197\n",
            "first: 196\n",
            "needs: 195\n",
            "overall: 194\n",
            "available: 193\n",
            "highly: 190\n",
            "3: 190\n",
            "bit: 189\n",
            "especially: 189\n",
            "night: 188\n",
            "visited: 188\n",
            "service,: 187\n",
            "floor: 185\n",
            "must: 184\n",
            "say: 183\n",
            "never: 182\n",
            "call: 182\n",
            "variety: 181\n",
            "it.: 178\n",
            "lot: 178\n",
            "n: 174\n",
            "manager: 173\n",
            "helpful.: 173\n",
            "said: 172\n",
            "old: 172\n",
            "spread: 171\n",
            "near: 169\n",
            "worth: 169\n",
            "given: 168\n",
            "booked: 168\n",
            "warm: 167\n",
            "top: 167\n",
            "kind: 167\n",
            "enjoyed: 167\n",
            "Taj: 167\n",
            "beautiful: 166\n",
            "back: 166\n",
            "city: 166\n",
            "well.: 165\n",
            "little: 164\n",
            "person: 164\n",
            "bed: 163\n",
            "hotel,: 162\n",
            "Thanks: 162\n",
            "good,: 161\n",
            "rooms.: 161\n",
            "want: 160\n",
            "truly: 160\n",
            "thing: 160\n",
            "worst: 159\n",
            "ever: 159\n",
            "maintained: 159\n",
            "Marriott: 157\n",
            "work: 157\n",
            "way: 154\n",
            "provide: 154\n",
            "next: 152\n",
            "guest: 152\n",
            "customer: 152\n",
            "facilities: 151\n",
            "rooms,: 151\n",
            "two: 151\n",
            "4: 150\n",
            "food,: 149\n",
            "perfect: 149\n",
            "located: 148\n",
            "place.: 147\n",
            "staff,: 147\n",
            "pleasant: 146\n",
            "looking: 145\n",
            "bathroom: 145\n"
          ]
        }
      ]
    },
    {
      "cell_type": "code",
      "source": [
        "def clean_review(review):\n",
        "    # List of words to replace\n",
        "    clean_list = ['clean', 'cleaned', 'cleaner', 'cleaners', 'cleaniness', 'cleaning', 'cleanliness',\n",
        "       'cleanly', 'cleanness', 'cleans', 'cleant', 'cleanup', 'reclean', 'roomcleanliness',\n",
        "       'unclean', 'uncleaned', 'veryclean']\n",
        "    room_list=['rooms','room5','inroom','roomall','roombut', 'roomcolour', 'roomi', 'roomroom', 'roomthe','roomy','yroom']\n",
        "    # comfortable_list=['comfort','comfortable', 'comfortableall', 'comfortablegood', 'comfortableneat', 'comfortableroom', 'comfortablestaff', 'comfortablethank', 'comfortablethe', 'comfortably', 'comfortbale', 'comforter', 'comforting', 'comforts']\n",
        "\n",
        "# Sample review text (replace this with your actual text data)\n",
        "\n",
        "# Loop through the list and replace variations with the base word \"clean\"\n",
        "    for word in clean_list:\n",
        "      review = review.replace(word, \"clean\")\n",
        "\n",
        "    for i in room_list:\n",
        "      review=review.replace(i,'room')\n",
        "\n",
        "\n",
        "    review = review.lower()  # Convert to lowercase\n",
        "    review = review.replace(\"rooms\", \"room\")  # Replace \"rooms\" with \"room\"\n",
        "    review = review.replace(\"services\", \"service\")  # Replace \"services\" with \"service\"\n",
        "    review = review.replace(\"experiences\", \"experience\")\n",
        "    review = review.replace(\"food.\", \"food\")\n",
        "    review = review.replace(\"foods\", \"food\")\n",
        "    review = review.replace(\"service.\", \"service\")\n",
        "    review = review.replace(\"stay.\", \"stay\")\n",
        "    review = review.replace(\"staff.\", \"staff\")\n",
        "    review = review.replace(\"room.\", \"room\")\n",
        "    review = review.replace(\"location.\", \"location\")\n",
        "    review = review.replace(\"experience.\", \"experience\")\n",
        "    review = review.replace(\"room,\", \"room\")\n",
        "    review = review.replace(\"service,\", \"serivce\")\n",
        "    review = review.replace(\"staff,\", \"staff\")\n",
        "    review = review.replace(\"food,\", \"food\")\n",
        "    review = review.replace(\"serivce\", \"service\")\n",
        "    review = review.replace(\"located\", \"location\")\n",
        "    review = review.replace(\"locations\", \"location\")\n",
        "    review = review.replace(\"staying\", \"stay\")\n",
        "    review=review.replace(\"clean,\",\"clean\")\n",
        "    review=review.replace(\"clean.\",\"clean\")\n",
        "    review=review.replace(\"stay,\",\"stay\")\n",
        "    review=review.replace(\"breakfast.\",\"breakfast\")\n",
        "    review=review.replace(\"breakfast,\",\"breakfast\")\n",
        "    review=review.replace(\"staffs,\",\"staff\")\n",
        "\n",
        "    review=review.replace(\"comfortable,\",\"comfortable\")\n",
        "    review=review.replace(\"comfortable.\",\"comfortable\")\n",
        "\n",
        "\n",
        "\n",
        "\n",
        "\n",
        "     # Replace \"experiences\" with \"experience\"\n",
        "    return review"
      ],
      "metadata": {
        "id": "dv5C0XH4wLKH"
      },
      "execution_count": 54,
      "outputs": []
    },
    {
      "cell_type": "code",
      "source": [
        "final_hotel_df['CleanedReview']=final_hotel_df['Review'].apply(clean_review)"
      ],
      "metadata": {
        "id": "J4Qtj5KQw4Ui"
      },
      "execution_count": 55,
      "outputs": []
    },
    {
      "cell_type": "code",
      "source": [
        "word_frequencies, most_frequent_words = count_word_frequencies_no_stopwords(final_hotel_df, 'CleanedReview')\n",
        "\n",
        "# Print the 20 most frequent words\n",
        "print(\"Top 20 Most Frequent Words (Without Stop Words):\")\n",
        "for word, freq in most_frequent_words:\n",
        "    print(f\"{word}: {freq}\")\n"
      ],
      "metadata": {
        "colab": {
          "base_uri": "https://localhost:8080/"
        },
        "id": "JgWhMLD2xBu5",
        "outputId": "d4fd9f90-ac91-4270-fae5-2b6a168db21d"
      },
      "execution_count": 58,
      "outputs": [
        {
          "output_type": "stream",
          "name": "stdout",
          "text": [
            "Top 20 Most Frequent Words (Without Stop Words):\n",
            "room: 4128\n",
            "hotel: 3147\n",
            "service: 3020\n",
            "food: 2990\n",
            "staff: 2969\n",
            "good: 2847\n",
            "stay: 2372\n",
            "experience: 1514\n",
            "also: 1174\n",
            "great: 1094\n",
            "breakfast: 1091\n",
            "one: 1054\n",
            "clean: 1028\n",
            ".: 1019\n",
            "place: 884\n",
            "nice: 874\n",
            "location: 822\n",
            ",: 796\n",
            "like: 758\n",
            "well: 757\n",
            "really: 705\n",
            "restaurant: 690\n",
            "best: 682\n",
            "good.: 658\n",
            "excellent: 644\n",
            "would: 642\n",
            "even: 637\n",
            "hotel.: 586\n",
            "comfortable: 580\n",
            "us: 570\n",
            "ahmedabad: 558\n",
            "time: 524\n",
            "&: 505\n",
            "overall: 482\n",
            "buffet: 468\n",
            "-: 463\n",
            "amazing: 460\n",
            "stayed: 453\n",
            "recommend: 449\n",
            "quality: 439\n",
            "dinner: 429\n",
            "thanks: 417\n",
            "visit: 414\n",
            "made: 405\n",
            "hospitality: 403\n",
            "star: 393\n",
            "reception: 384\n",
            "front: 382\n",
            "get: 358\n",
            "property: 356\n",
            "check: 354\n",
            "team: 352\n",
            "special: 351\n",
            "every: 338\n",
            "thank: 331\n",
            "business: 330\n",
            "went: 325\n",
            "helpful: 325\n",
            "ahmedabad.: 319\n",
            "5: 315\n",
            "highly: 309\n",
            "much: 303\n",
            "everything: 297\n",
            "friendly: 291\n",
            "always: 286\n",
            "chef: 285\n",
            "feel: 283\n",
            "dining: 282\n",
            "2: 281\n",
            "ambience: 276\n",
            "make: 272\n",
            "wonderful: 272\n",
            "bad: 269\n",
            "go: 268\n",
            "spacious: 264\n",
            "could: 264\n",
            "bathroom: 260\n",
            "need: 260\n",
            "small: 259\n",
            "must: 259\n",
            "delicious: 257\n",
            "polite: 254\n",
            "many: 254\n",
            "better: 251\n",
            "people: 250\n",
            "care: 249\n",
            "definitely: 247\n",
            "water: 247\n",
            "worst: 246\n",
            "desk: 246\n",
            "mr: 242\n",
            "mr.: 241\n",
            "day: 237\n",
            "provided: 237\n",
            "area: 235\n",
            "first: 234\n",
            "family: 233\n",
            "pool: 228\n",
            "asked: 228\n",
            "visited: 225\n",
            "courteous: 224\n",
            "manager: 224\n",
            "got: 223\n",
            "take: 223\n",
            "especially: 223\n",
            "give: 222\n",
            "never: 221\n",
            "amenities: 220\n",
            "served: 220\n",
            "view: 218\n",
            "guests: 217\n",
            "hotels: 217\n",
            "quite: 217\n",
            "taste: 216\n",
            "options: 214\n",
            "took: 212\n",
            "here.: 204\n",
            "needs: 204\n",
            "loved: 204\n",
            "come: 203\n",
            "beautiful: 202\n",
            "taj: 198\n",
            "making: 197\n",
            "bit: 197\n",
            "available: 197\n",
            "hotel,: 195\n",
            "night: 194\n",
            "enjoyed: 194\n",
            "variety: 193\n",
            "old: 193\n",
            "housekeeping: 191\n",
            "worth: 190\n",
            "3: 190\n",
            "call: 189\n",
            "near: 188\n",
            "floor: 188\n",
            "booked: 187\n",
            "n: 187\n",
            "specially: 186\n",
            "say: 183\n",
            "it.: 182\n",
            "lot: 182\n",
            "city: 182\n",
            "spread: 178\n",
            "top: 178\n",
            "parking: 175\n",
            "bed: 175\n",
            "extremely: 175\n",
            "said: 174\n",
            "helpful.: 174\n",
            "warm: 173\n",
            "given: 172\n",
            "little: 172\n",
            "truly: 169\n",
            "kind: 169\n",
            "next: 168\n",
            "customer: 168\n",
            "back: 167\n",
            "swimming: 167\n",
            "awesome: 166\n",
            "management: 166\n",
            "well.: 166\n",
            "guest: 165\n",
            "love: 165\n",
            "perfect: 165\n",
            "want: 164\n",
            "person: 164\n",
            "looking: 163\n",
            "big: 163\n",
            "good,: 163\n",
            "ever: 162\n",
            "staffs: 162\n",
            "thing: 161\n",
            "maintained: 161\n",
            "itc: 161\n",
            "marriott: 160\n",
            "two: 158\n",
            "work: 158\n",
            "way: 157\n",
            "keep: 157\n",
            "facilities: 156\n",
            "provide: 156\n",
            "pleasant: 153\n",
            "booking: 152\n",
            "decent: 152\n",
            "house: 151\n",
            "hyatt: 151\n",
            "poor: 150\n",
            "4: 150\n",
            "though: 149\n",
            "place.: 148\n",
            "recently: 147\n",
            "luxurious: 146\n",
            "days: 146\n",
            "price: 145\n",
            "time.: 145\n",
            "came: 144\n",
            "indian: 143\n",
            "nothing: 142\n",
            "around: 142\n"
          ]
        }
      ]
    },
    {
      "cell_type": "code",
      "source": [
        "for i in list2:\n",
        "  i['CleanedReview']=i['Review'].apply(clean_review)\n",
        "for i in list1:\n",
        "  i['CleanedReview']=i['Review'].apply(clean_review)"
      ],
      "metadata": {
        "id": "v2xOaJXs6eLd"
      },
      "execution_count": 60,
      "outputs": []
    },
    {
      "cell_type": "code",
      "source": [
        "def analyze_reviews_per_hotel(df):\n",
        "    \"\"\"\n",
        "    Processes a DataFrame with reviews for a single hotel and returns detailed sentiment analysis.\n",
        "\n",
        "    Parameters:\n",
        "    df (DataFrame): Input DataFrame containing columns 'Review' for a specific hotel.\n",
        "    hotel_name (str): Name of the hotel.\n",
        "\n",
        "    Returns:\n",
        "    DataFrame: A DataFrame with columns 'Hotel_Name', 'CleanedReview', 'Sentiment', 'Score', 'Detailed Sentiment'.\n",
        "    \"\"\"\n",
        "    # Ensure the DataFrame has a 'Review' column\n",
        "    if 'Review' not in df.columns:\n",
        "        raise ValueError(\"The DataFrame must have a 'Review' column.\")\n",
        "\n",
        "    # Text cleaning function\n",
        "\n",
        "    # Load sentiment analysis pipeline\n",
        "    sa = pipeline(\"sentiment-analysis\", model=\"distilbert-base-uncased-finetuned-sst-2-english\",tokenizer=\"distilbert-base-uncased-finetuned-sst-2-english\",truncation=True)\n",
        "\n",
        "    # Analyze sentiment\n",
        "    df['Sentiment'] = df['CleanedReview'].apply(lambda x: sa(x)[0]['label'])\n",
        "    df['Score'] = df['CleanedReview'].apply(lambda x: sa(x)[0]['score'])\n",
        "\n",
        "    # Map sentiment to detailed categories\n",
        "    def map_sentiment(label, score):\n",
        "        if label == 'POSITIVE' and score > 0.8:\n",
        "            return 'Strongly Positive'\n",
        "        elif label == 'NEGATIVE' and score > 0.8:\n",
        "            return 'Strongly Negative'\n",
        "        else:\n",
        "            return 'Neutral'\n",
        "\n",
        "    df['Detailed Sentiment'] = df.apply(lambda x: map_sentiment(x['Sentiment'], x['Score']), axis=1)\n",
        "\n",
        "    # Rearrange columns\n",
        "    df = df[['Hotel_Name', 'CleanedReview', 'Sentiment', 'Score', 'Detailed Sentiment']]\n",
        "\n",
        "    return df"
      ],
      "metadata": {
        "id": "khM_bNZjxLBU"
      },
      "execution_count": 77,
      "outputs": []
    },
    {
      "cell_type": "code",
      "source": [
        "ramada_result=analyze_reviews_per_hotel(ramada)"
      ],
      "metadata": {
        "colab": {
          "base_uri": "https://localhost:8080/"
        },
        "id": "M4eUth2e6Y2m",
        "outputId": "de17d1c0-5e69-411f-a741-31bf2a71b756"
      },
      "execution_count": 129,
      "outputs": [
        {
          "output_type": "stream",
          "name": "stderr",
          "text": [
            "Device set to use cpu\n"
          ]
        }
      ]
    },
    {
      "cell_type": "code",
      "source": [
        "ramada_result"
      ],
      "metadata": {
        "colab": {
          "base_uri": "https://localhost:8080/",
          "height": 423
        },
        "id": "Xh0eLtvSVI39",
        "outputId": "ed59812e-d7bc-4ed7-ec76-026fbec537ed"
      },
      "execution_count": 131,
      "outputs": [
        {
          "output_type": "execute_result",
          "data": {
            "text/plain": [
              "    Hotel_Name                                      CleanedReview Sentiment  \\\n",
              "0       Ramada  outstanding experience at ramada hotel, ahmeda...  POSITIVE   \n",
              "1       Ramada  we booked few room and the banquet to celebrat...  POSITIVE   \n",
              "2       Ramada  the name itself tells you the quality of hotel...  POSITIVE   \n",
              "3       Ramada  i've booked this hotel on the basis of their r...  NEGATIVE   \n",
              "4       Ramada  were there for business meet with doctors in l...  POSITIVE   \n",
              "..         ...                                                ...       ...   \n",
              "105     Ramada                                        super hotel  POSITIVE   \n",
              "106     Ramada  gujarat is an alcohol-free zone.\\nif you have ...  POSITIVE   \n",
              "107     Ramada              very good hotel in downtown ahmedabad  POSITIVE   \n",
              "108     Ramada                                              super  POSITIVE   \n",
              "109     Ramada                                 cousins ​​nice job  POSITIVE   \n",
              "\n",
              "        Score Detailed Sentiment  \n",
              "0    0.999877  Strongly Positive  \n",
              "1    0.999810  Strongly Positive  \n",
              "2    0.999801  Strongly Positive  \n",
              "3    0.999560  Strongly Negative  \n",
              "4    0.700189            Neutral  \n",
              "..        ...                ...  \n",
              "105  0.999306  Strongly Positive  \n",
              "106  0.541063            Neutral  \n",
              "107  0.999847  Strongly Positive  \n",
              "108  0.998784  Strongly Positive  \n",
              "109  0.999786  Strongly Positive  \n",
              "\n",
              "[110 rows x 5 columns]"
            ],
            "text/html": [
              "\n",
              "  <div id=\"df-f0e11a80-4cc2-4b72-97d9-1f06c9293ccb\" class=\"colab-df-container\">\n",
              "    <div>\n",
              "<style scoped>\n",
              "    .dataframe tbody tr th:only-of-type {\n",
              "        vertical-align: middle;\n",
              "    }\n",
              "\n",
              "    .dataframe tbody tr th {\n",
              "        vertical-align: top;\n",
              "    }\n",
              "\n",
              "    .dataframe thead th {\n",
              "        text-align: right;\n",
              "    }\n",
              "</style>\n",
              "<table border=\"1\" class=\"dataframe\">\n",
              "  <thead>\n",
              "    <tr style=\"text-align: right;\">\n",
              "      <th></th>\n",
              "      <th>Hotel_Name</th>\n",
              "      <th>CleanedReview</th>\n",
              "      <th>Sentiment</th>\n",
              "      <th>Score</th>\n",
              "      <th>Detailed Sentiment</th>\n",
              "    </tr>\n",
              "  </thead>\n",
              "  <tbody>\n",
              "    <tr>\n",
              "      <th>0</th>\n",
              "      <td>Ramada</td>\n",
              "      <td>outstanding experience at ramada hotel, ahmeda...</td>\n",
              "      <td>POSITIVE</td>\n",
              "      <td>0.999877</td>\n",
              "      <td>Strongly Positive</td>\n",
              "    </tr>\n",
              "    <tr>\n",
              "      <th>1</th>\n",
              "      <td>Ramada</td>\n",
              "      <td>we booked few room and the banquet to celebrat...</td>\n",
              "      <td>POSITIVE</td>\n",
              "      <td>0.999810</td>\n",
              "      <td>Strongly Positive</td>\n",
              "    </tr>\n",
              "    <tr>\n",
              "      <th>2</th>\n",
              "      <td>Ramada</td>\n",
              "      <td>the name itself tells you the quality of hotel...</td>\n",
              "      <td>POSITIVE</td>\n",
              "      <td>0.999801</td>\n",
              "      <td>Strongly Positive</td>\n",
              "    </tr>\n",
              "    <tr>\n",
              "      <th>3</th>\n",
              "      <td>Ramada</td>\n",
              "      <td>i've booked this hotel on the basis of their r...</td>\n",
              "      <td>NEGATIVE</td>\n",
              "      <td>0.999560</td>\n",
              "      <td>Strongly Negative</td>\n",
              "    </tr>\n",
              "    <tr>\n",
              "      <th>4</th>\n",
              "      <td>Ramada</td>\n",
              "      <td>were there for business meet with doctors in l...</td>\n",
              "      <td>POSITIVE</td>\n",
              "      <td>0.700189</td>\n",
              "      <td>Neutral</td>\n",
              "    </tr>\n",
              "    <tr>\n",
              "      <th>...</th>\n",
              "      <td>...</td>\n",
              "      <td>...</td>\n",
              "      <td>...</td>\n",
              "      <td>...</td>\n",
              "      <td>...</td>\n",
              "    </tr>\n",
              "    <tr>\n",
              "      <th>105</th>\n",
              "      <td>Ramada</td>\n",
              "      <td>super hotel</td>\n",
              "      <td>POSITIVE</td>\n",
              "      <td>0.999306</td>\n",
              "      <td>Strongly Positive</td>\n",
              "    </tr>\n",
              "    <tr>\n",
              "      <th>106</th>\n",
              "      <td>Ramada</td>\n",
              "      <td>gujarat is an alcohol-free zone.\\nif you have ...</td>\n",
              "      <td>POSITIVE</td>\n",
              "      <td>0.541063</td>\n",
              "      <td>Neutral</td>\n",
              "    </tr>\n",
              "    <tr>\n",
              "      <th>107</th>\n",
              "      <td>Ramada</td>\n",
              "      <td>very good hotel in downtown ahmedabad</td>\n",
              "      <td>POSITIVE</td>\n",
              "      <td>0.999847</td>\n",
              "      <td>Strongly Positive</td>\n",
              "    </tr>\n",
              "    <tr>\n",
              "      <th>108</th>\n",
              "      <td>Ramada</td>\n",
              "      <td>super</td>\n",
              "      <td>POSITIVE</td>\n",
              "      <td>0.998784</td>\n",
              "      <td>Strongly Positive</td>\n",
              "    </tr>\n",
              "    <tr>\n",
              "      <th>109</th>\n",
              "      <td>Ramada</td>\n",
              "      <td>cousins ​​nice job</td>\n",
              "      <td>POSITIVE</td>\n",
              "      <td>0.999786</td>\n",
              "      <td>Strongly Positive</td>\n",
              "    </tr>\n",
              "  </tbody>\n",
              "</table>\n",
              "<p>110 rows × 5 columns</p>\n",
              "</div>\n",
              "    <div class=\"colab-df-buttons\">\n",
              "\n",
              "  <div class=\"colab-df-container\">\n",
              "    <button class=\"colab-df-convert\" onclick=\"convertToInteractive('df-f0e11a80-4cc2-4b72-97d9-1f06c9293ccb')\"\n",
              "            title=\"Convert this dataframe to an interactive table.\"\n",
              "            style=\"display:none;\">\n",
              "\n",
              "  <svg xmlns=\"http://www.w3.org/2000/svg\" height=\"24px\" viewBox=\"0 -960 960 960\">\n",
              "    <path d=\"M120-120v-720h720v720H120Zm60-500h600v-160H180v160Zm220 220h160v-160H400v160Zm0 220h160v-160H400v160ZM180-400h160v-160H180v160Zm440 0h160v-160H620v160ZM180-180h160v-160H180v160Zm440 0h160v-160H620v160Z\"/>\n",
              "  </svg>\n",
              "    </button>\n",
              "\n",
              "  <style>\n",
              "    .colab-df-container {\n",
              "      display:flex;\n",
              "      gap: 12px;\n",
              "    }\n",
              "\n",
              "    .colab-df-convert {\n",
              "      background-color: #E8F0FE;\n",
              "      border: none;\n",
              "      border-radius: 50%;\n",
              "      cursor: pointer;\n",
              "      display: none;\n",
              "      fill: #1967D2;\n",
              "      height: 32px;\n",
              "      padding: 0 0 0 0;\n",
              "      width: 32px;\n",
              "    }\n",
              "\n",
              "    .colab-df-convert:hover {\n",
              "      background-color: #E2EBFA;\n",
              "      box-shadow: 0px 1px 2px rgba(60, 64, 67, 0.3), 0px 1px 3px 1px rgba(60, 64, 67, 0.15);\n",
              "      fill: #174EA6;\n",
              "    }\n",
              "\n",
              "    .colab-df-buttons div {\n",
              "      margin-bottom: 4px;\n",
              "    }\n",
              "\n",
              "    [theme=dark] .colab-df-convert {\n",
              "      background-color: #3B4455;\n",
              "      fill: #D2E3FC;\n",
              "    }\n",
              "\n",
              "    [theme=dark] .colab-df-convert:hover {\n",
              "      background-color: #434B5C;\n",
              "      box-shadow: 0px 1px 3px 1px rgba(0, 0, 0, 0.15);\n",
              "      filter: drop-shadow(0px 1px 2px rgba(0, 0, 0, 0.3));\n",
              "      fill: #FFFFFF;\n",
              "    }\n",
              "  </style>\n",
              "\n",
              "    <script>\n",
              "      const buttonEl =\n",
              "        document.querySelector('#df-f0e11a80-4cc2-4b72-97d9-1f06c9293ccb button.colab-df-convert');\n",
              "      buttonEl.style.display =\n",
              "        google.colab.kernel.accessAllowed ? 'block' : 'none';\n",
              "\n",
              "      async function convertToInteractive(key) {\n",
              "        const element = document.querySelector('#df-f0e11a80-4cc2-4b72-97d9-1f06c9293ccb');\n",
              "        const dataTable =\n",
              "          await google.colab.kernel.invokeFunction('convertToInteractive',\n",
              "                                                    [key], {});\n",
              "        if (!dataTable) return;\n",
              "\n",
              "        const docLinkHtml = 'Like what you see? Visit the ' +\n",
              "          '<a target=\"_blank\" href=https://colab.research.google.com/notebooks/data_table.ipynb>data table notebook</a>'\n",
              "          + ' to learn more about interactive tables.';\n",
              "        element.innerHTML = '';\n",
              "        dataTable['output_type'] = 'display_data';\n",
              "        await google.colab.output.renderOutput(dataTable, element);\n",
              "        const docLink = document.createElement('div');\n",
              "        docLink.innerHTML = docLinkHtml;\n",
              "        element.appendChild(docLink);\n",
              "      }\n",
              "    </script>\n",
              "  </div>\n",
              "\n",
              "\n",
              "<div id=\"df-9c911119-6fe6-4e68-b337-01bd769898d3\">\n",
              "  <button class=\"colab-df-quickchart\" onclick=\"quickchart('df-9c911119-6fe6-4e68-b337-01bd769898d3')\"\n",
              "            title=\"Suggest charts\"\n",
              "            style=\"display:none;\">\n",
              "\n",
              "<svg xmlns=\"http://www.w3.org/2000/svg\" height=\"24px\"viewBox=\"0 0 24 24\"\n",
              "     width=\"24px\">\n",
              "    <g>\n",
              "        <path d=\"M19 3H5c-1.1 0-2 .9-2 2v14c0 1.1.9 2 2 2h14c1.1 0 2-.9 2-2V5c0-1.1-.9-2-2-2zM9 17H7v-7h2v7zm4 0h-2V7h2v10zm4 0h-2v-4h2v4z\"/>\n",
              "    </g>\n",
              "</svg>\n",
              "  </button>\n",
              "\n",
              "<style>\n",
              "  .colab-df-quickchart {\n",
              "      --bg-color: #E8F0FE;\n",
              "      --fill-color: #1967D2;\n",
              "      --hover-bg-color: #E2EBFA;\n",
              "      --hover-fill-color: #174EA6;\n",
              "      --disabled-fill-color: #AAA;\n",
              "      --disabled-bg-color: #DDD;\n",
              "  }\n",
              "\n",
              "  [theme=dark] .colab-df-quickchart {\n",
              "      --bg-color: #3B4455;\n",
              "      --fill-color: #D2E3FC;\n",
              "      --hover-bg-color: #434B5C;\n",
              "      --hover-fill-color: #FFFFFF;\n",
              "      --disabled-bg-color: #3B4455;\n",
              "      --disabled-fill-color: #666;\n",
              "  }\n",
              "\n",
              "  .colab-df-quickchart {\n",
              "    background-color: var(--bg-color);\n",
              "    border: none;\n",
              "    border-radius: 50%;\n",
              "    cursor: pointer;\n",
              "    display: none;\n",
              "    fill: var(--fill-color);\n",
              "    height: 32px;\n",
              "    padding: 0;\n",
              "    width: 32px;\n",
              "  }\n",
              "\n",
              "  .colab-df-quickchart:hover {\n",
              "    background-color: var(--hover-bg-color);\n",
              "    box-shadow: 0 1px 2px rgba(60, 64, 67, 0.3), 0 1px 3px 1px rgba(60, 64, 67, 0.15);\n",
              "    fill: var(--button-hover-fill-color);\n",
              "  }\n",
              "\n",
              "  .colab-df-quickchart-complete:disabled,\n",
              "  .colab-df-quickchart-complete:disabled:hover {\n",
              "    background-color: var(--disabled-bg-color);\n",
              "    fill: var(--disabled-fill-color);\n",
              "    box-shadow: none;\n",
              "  }\n",
              "\n",
              "  .colab-df-spinner {\n",
              "    border: 2px solid var(--fill-color);\n",
              "    border-color: transparent;\n",
              "    border-bottom-color: var(--fill-color);\n",
              "    animation:\n",
              "      spin 1s steps(1) infinite;\n",
              "  }\n",
              "\n",
              "  @keyframes spin {\n",
              "    0% {\n",
              "      border-color: transparent;\n",
              "      border-bottom-color: var(--fill-color);\n",
              "      border-left-color: var(--fill-color);\n",
              "    }\n",
              "    20% {\n",
              "      border-color: transparent;\n",
              "      border-left-color: var(--fill-color);\n",
              "      border-top-color: var(--fill-color);\n",
              "    }\n",
              "    30% {\n",
              "      border-color: transparent;\n",
              "      border-left-color: var(--fill-color);\n",
              "      border-top-color: var(--fill-color);\n",
              "      border-right-color: var(--fill-color);\n",
              "    }\n",
              "    40% {\n",
              "      border-color: transparent;\n",
              "      border-right-color: var(--fill-color);\n",
              "      border-top-color: var(--fill-color);\n",
              "    }\n",
              "    60% {\n",
              "      border-color: transparent;\n",
              "      border-right-color: var(--fill-color);\n",
              "    }\n",
              "    80% {\n",
              "      border-color: transparent;\n",
              "      border-right-color: var(--fill-color);\n",
              "      border-bottom-color: var(--fill-color);\n",
              "    }\n",
              "    90% {\n",
              "      border-color: transparent;\n",
              "      border-bottom-color: var(--fill-color);\n",
              "    }\n",
              "  }\n",
              "</style>\n",
              "\n",
              "  <script>\n",
              "    async function quickchart(key) {\n",
              "      const quickchartButtonEl =\n",
              "        document.querySelector('#' + key + ' button');\n",
              "      quickchartButtonEl.disabled = true;  // To prevent multiple clicks.\n",
              "      quickchartButtonEl.classList.add('colab-df-spinner');\n",
              "      try {\n",
              "        const charts = await google.colab.kernel.invokeFunction(\n",
              "            'suggestCharts', [key], {});\n",
              "      } catch (error) {\n",
              "        console.error('Error during call to suggestCharts:', error);\n",
              "      }\n",
              "      quickchartButtonEl.classList.remove('colab-df-spinner');\n",
              "      quickchartButtonEl.classList.add('colab-df-quickchart-complete');\n",
              "    }\n",
              "    (() => {\n",
              "      let quickchartButtonEl =\n",
              "        document.querySelector('#df-9c911119-6fe6-4e68-b337-01bd769898d3 button');\n",
              "      quickchartButtonEl.style.display =\n",
              "        google.colab.kernel.accessAllowed ? 'block' : 'none';\n",
              "    })();\n",
              "  </script>\n",
              "</div>\n",
              "\n",
              "  <div id=\"id_3ac6f434-4fc8-4ebc-87a0-91cbc5656e77\">\n",
              "    <style>\n",
              "      .colab-df-generate {\n",
              "        background-color: #E8F0FE;\n",
              "        border: none;\n",
              "        border-radius: 50%;\n",
              "        cursor: pointer;\n",
              "        display: none;\n",
              "        fill: #1967D2;\n",
              "        height: 32px;\n",
              "        padding: 0 0 0 0;\n",
              "        width: 32px;\n",
              "      }\n",
              "\n",
              "      .colab-df-generate:hover {\n",
              "        background-color: #E2EBFA;\n",
              "        box-shadow: 0px 1px 2px rgba(60, 64, 67, 0.3), 0px 1px 3px 1px rgba(60, 64, 67, 0.15);\n",
              "        fill: #174EA6;\n",
              "      }\n",
              "\n",
              "      [theme=dark] .colab-df-generate {\n",
              "        background-color: #3B4455;\n",
              "        fill: #D2E3FC;\n",
              "      }\n",
              "\n",
              "      [theme=dark] .colab-df-generate:hover {\n",
              "        background-color: #434B5C;\n",
              "        box-shadow: 0px 1px 3px 1px rgba(0, 0, 0, 0.15);\n",
              "        filter: drop-shadow(0px 1px 2px rgba(0, 0, 0, 0.3));\n",
              "        fill: #FFFFFF;\n",
              "      }\n",
              "    </style>\n",
              "    <button class=\"colab-df-generate\" onclick=\"generateWithVariable('ramada_result')\"\n",
              "            title=\"Generate code using this dataframe.\"\n",
              "            style=\"display:none;\">\n",
              "\n",
              "  <svg xmlns=\"http://www.w3.org/2000/svg\" height=\"24px\"viewBox=\"0 0 24 24\"\n",
              "       width=\"24px\">\n",
              "    <path d=\"M7,19H8.4L18.45,9,17,7.55,7,17.6ZM5,21V16.75L18.45,3.32a2,2,0,0,1,2.83,0l1.4,1.43a1.91,1.91,0,0,1,.58,1.4,1.91,1.91,0,0,1-.58,1.4L9.25,21ZM18.45,9,17,7.55Zm-12,3A5.31,5.31,0,0,0,4.9,8.1,5.31,5.31,0,0,0,1,6.5,5.31,5.31,0,0,0,4.9,4.9,5.31,5.31,0,0,0,6.5,1,5.31,5.31,0,0,0,8.1,4.9,5.31,5.31,0,0,0,12,6.5,5.46,5.46,0,0,0,6.5,12Z\"/>\n",
              "  </svg>\n",
              "    </button>\n",
              "    <script>\n",
              "      (() => {\n",
              "      const buttonEl =\n",
              "        document.querySelector('#id_3ac6f434-4fc8-4ebc-87a0-91cbc5656e77 button.colab-df-generate');\n",
              "      buttonEl.style.display =\n",
              "        google.colab.kernel.accessAllowed ? 'block' : 'none';\n",
              "\n",
              "      buttonEl.onclick = () => {\n",
              "        google.colab.notebook.generateWithVariable('ramada_result');\n",
              "      }\n",
              "      })();\n",
              "    </script>\n",
              "  </div>\n",
              "\n",
              "    </div>\n",
              "  </div>\n"
            ],
            "application/vnd.google.colaboratory.intrinsic+json": {
              "type": "dataframe",
              "variable_name": "ramada_result",
              "summary": "{\n  \"name\": \"ramada_result\",\n  \"rows\": 110,\n  \"fields\": [\n    {\n      \"column\": \"Hotel_Name\",\n      \"properties\": {\n        \"dtype\": \"category\",\n        \"num_unique_values\": 1,\n        \"samples\": [\n          \"Ramada\"\n        ],\n        \"semantic_type\": \"\",\n        \"description\": \"\"\n      }\n    },\n    {\n      \"column\": \"CleanedReview\",\n      \"properties\": {\n        \"dtype\": \"string\",\n        \"num_unique_values\": 109,\n        \"samples\": [\n          \"the stay at ramada has always been a pleasure in ahmedabad\"\n        ],\n        \"semantic_type\": \"\",\n        \"description\": \"\"\n      }\n    },\n    {\n      \"column\": \"Sentiment\",\n      \"properties\": {\n        \"dtype\": \"category\",\n        \"num_unique_values\": 2,\n        \"samples\": [\n          \"NEGATIVE\"\n        ],\n        \"semantic_type\": \"\",\n        \"description\": \"\"\n      }\n    },\n    {\n      \"column\": \"Score\",\n      \"properties\": {\n        \"dtype\": \"number\",\n        \"std\": 0.05793174710585591,\n        \"min\": 0.5410628914833069,\n        \"max\": 0.9998898506164551,\n        \"num_unique_values\": 106,\n        \"samples\": [\n          0.9554159045219421\n        ],\n        \"semantic_type\": \"\",\n        \"description\": \"\"\n      }\n    },\n    {\n      \"column\": \"Detailed Sentiment\",\n      \"properties\": {\n        \"dtype\": \"category\",\n        \"num_unique_values\": 3,\n        \"samples\": [\n          \"Strongly Positive\"\n        ],\n        \"semantic_type\": \"\",\n        \"description\": \"\"\n      }\n    }\n  ]\n}"
            }
          },
          "metadata": {},
          "execution_count": 131
        }
      ]
    },
    {
      "cell_type": "code",
      "source": [
        "ramada_result['Sentiment'].value_counts()"
      ],
      "metadata": {
        "colab": {
          "base_uri": "https://localhost:8080/",
          "height": 178
        },
        "id": "uiewghMfWMUl",
        "outputId": "aa382665-f20c-43f5-ea2e-16ae5b9528da"
      },
      "execution_count": 136,
      "outputs": [
        {
          "output_type": "execute_result",
          "data": {
            "text/plain": [
              "Sentiment\n",
              "POSITIVE    88\n",
              "NEGATIVE    22\n",
              "Name: count, dtype: int64"
            ],
            "text/html": [
              "<div>\n",
              "<style scoped>\n",
              "    .dataframe tbody tr th:only-of-type {\n",
              "        vertical-align: middle;\n",
              "    }\n",
              "\n",
              "    .dataframe tbody tr th {\n",
              "        vertical-align: top;\n",
              "    }\n",
              "\n",
              "    .dataframe thead th {\n",
              "        text-align: right;\n",
              "    }\n",
              "</style>\n",
              "<table border=\"1\" class=\"dataframe\">\n",
              "  <thead>\n",
              "    <tr style=\"text-align: right;\">\n",
              "      <th></th>\n",
              "      <th>count</th>\n",
              "    </tr>\n",
              "    <tr>\n",
              "      <th>Sentiment</th>\n",
              "      <th></th>\n",
              "    </tr>\n",
              "  </thead>\n",
              "  <tbody>\n",
              "    <tr>\n",
              "      <th>POSITIVE</th>\n",
              "      <td>88</td>\n",
              "    </tr>\n",
              "    <tr>\n",
              "      <th>NEGATIVE</th>\n",
              "      <td>22</td>\n",
              "    </tr>\n",
              "  </tbody>\n",
              "</table>\n",
              "</div><br><label><b>dtype:</b> int64</label>"
            ]
          },
          "metadata": {},
          "execution_count": 136
        }
      ]
    },
    {
      "cell_type": "code",
      "source": [
        "ramada_result"
      ],
      "metadata": {
        "colab": {
          "base_uri": "https://localhost:8080/",
          "height": 423
        },
        "id": "eJ0GGvaM8BRs",
        "outputId": "5844b85e-2f50-4741-d18a-ba7be4f43156"
      },
      "execution_count": 68,
      "outputs": [
        {
          "output_type": "execute_result",
          "data": {
            "text/plain": [
              "    Hotel_Name                                      CleanedReview Sentiment  \\\n",
              "0       Ramada  outstanding experience at ramada hotel, ahmeda...  POSITIVE   \n",
              "1       Ramada  we booked few room and the banquet to celebrat...  POSITIVE   \n",
              "2       Ramada  the name itself tells you the quality of hotel...  POSITIVE   \n",
              "3       Ramada  i've booked this hotel on the basis of their r...  NEGATIVE   \n",
              "4       Ramada  were there for business meet with doctors in l...  POSITIVE   \n",
              "..         ...                                                ...       ...   \n",
              "105     Ramada                                        super hotel  POSITIVE   \n",
              "106     Ramada  gujarat is an alcohol-free zone.\\nif you have ...  POSITIVE   \n",
              "107     Ramada              very good hotel in downtown ahmedabad  POSITIVE   \n",
              "108     Ramada                                              super  POSITIVE   \n",
              "109     Ramada                                 cousins ​​nice job  POSITIVE   \n",
              "\n",
              "        Score Detailed Sentiment  \n",
              "0    0.999877  Strongly Positive  \n",
              "1    0.999810  Strongly Positive  \n",
              "2    0.999801  Strongly Positive  \n",
              "3    0.999560  Strongly Negative  \n",
              "4    0.700189            Neutral  \n",
              "..        ...                ...  \n",
              "105  0.999306  Strongly Positive  \n",
              "106  0.541063            Neutral  \n",
              "107  0.999847  Strongly Positive  \n",
              "108  0.998784  Strongly Positive  \n",
              "109  0.999786  Strongly Positive  \n",
              "\n",
              "[110 rows x 5 columns]"
            ],
            "text/html": [
              "\n",
              "  <div id=\"df-988d6e05-d01a-456b-a8df-4ab8b9152b65\" class=\"colab-df-container\">\n",
              "    <div>\n",
              "<style scoped>\n",
              "    .dataframe tbody tr th:only-of-type {\n",
              "        vertical-align: middle;\n",
              "    }\n",
              "\n",
              "    .dataframe tbody tr th {\n",
              "        vertical-align: top;\n",
              "    }\n",
              "\n",
              "    .dataframe thead th {\n",
              "        text-align: right;\n",
              "    }\n",
              "</style>\n",
              "<table border=\"1\" class=\"dataframe\">\n",
              "  <thead>\n",
              "    <tr style=\"text-align: right;\">\n",
              "      <th></th>\n",
              "      <th>Hotel_Name</th>\n",
              "      <th>CleanedReview</th>\n",
              "      <th>Sentiment</th>\n",
              "      <th>Score</th>\n",
              "      <th>Detailed Sentiment</th>\n",
              "    </tr>\n",
              "  </thead>\n",
              "  <tbody>\n",
              "    <tr>\n",
              "      <th>0</th>\n",
              "      <td>Ramada</td>\n",
              "      <td>outstanding experience at ramada hotel, ahmeda...</td>\n",
              "      <td>POSITIVE</td>\n",
              "      <td>0.999877</td>\n",
              "      <td>Strongly Positive</td>\n",
              "    </tr>\n",
              "    <tr>\n",
              "      <th>1</th>\n",
              "      <td>Ramada</td>\n",
              "      <td>we booked few room and the banquet to celebrat...</td>\n",
              "      <td>POSITIVE</td>\n",
              "      <td>0.999810</td>\n",
              "      <td>Strongly Positive</td>\n",
              "    </tr>\n",
              "    <tr>\n",
              "      <th>2</th>\n",
              "      <td>Ramada</td>\n",
              "      <td>the name itself tells you the quality of hotel...</td>\n",
              "      <td>POSITIVE</td>\n",
              "      <td>0.999801</td>\n",
              "      <td>Strongly Positive</td>\n",
              "    </tr>\n",
              "    <tr>\n",
              "      <th>3</th>\n",
              "      <td>Ramada</td>\n",
              "      <td>i've booked this hotel on the basis of their r...</td>\n",
              "      <td>NEGATIVE</td>\n",
              "      <td>0.999560</td>\n",
              "      <td>Strongly Negative</td>\n",
              "    </tr>\n",
              "    <tr>\n",
              "      <th>4</th>\n",
              "      <td>Ramada</td>\n",
              "      <td>were there for business meet with doctors in l...</td>\n",
              "      <td>POSITIVE</td>\n",
              "      <td>0.700189</td>\n",
              "      <td>Neutral</td>\n",
              "    </tr>\n",
              "    <tr>\n",
              "      <th>...</th>\n",
              "      <td>...</td>\n",
              "      <td>...</td>\n",
              "      <td>...</td>\n",
              "      <td>...</td>\n",
              "      <td>...</td>\n",
              "    </tr>\n",
              "    <tr>\n",
              "      <th>105</th>\n",
              "      <td>Ramada</td>\n",
              "      <td>super hotel</td>\n",
              "      <td>POSITIVE</td>\n",
              "      <td>0.999306</td>\n",
              "      <td>Strongly Positive</td>\n",
              "    </tr>\n",
              "    <tr>\n",
              "      <th>106</th>\n",
              "      <td>Ramada</td>\n",
              "      <td>gujarat is an alcohol-free zone.\\nif you have ...</td>\n",
              "      <td>POSITIVE</td>\n",
              "      <td>0.541063</td>\n",
              "      <td>Neutral</td>\n",
              "    </tr>\n",
              "    <tr>\n",
              "      <th>107</th>\n",
              "      <td>Ramada</td>\n",
              "      <td>very good hotel in downtown ahmedabad</td>\n",
              "      <td>POSITIVE</td>\n",
              "      <td>0.999847</td>\n",
              "      <td>Strongly Positive</td>\n",
              "    </tr>\n",
              "    <tr>\n",
              "      <th>108</th>\n",
              "      <td>Ramada</td>\n",
              "      <td>super</td>\n",
              "      <td>POSITIVE</td>\n",
              "      <td>0.998784</td>\n",
              "      <td>Strongly Positive</td>\n",
              "    </tr>\n",
              "    <tr>\n",
              "      <th>109</th>\n",
              "      <td>Ramada</td>\n",
              "      <td>cousins ​​nice job</td>\n",
              "      <td>POSITIVE</td>\n",
              "      <td>0.999786</td>\n",
              "      <td>Strongly Positive</td>\n",
              "    </tr>\n",
              "  </tbody>\n",
              "</table>\n",
              "<p>110 rows × 5 columns</p>\n",
              "</div>\n",
              "    <div class=\"colab-df-buttons\">\n",
              "\n",
              "  <div class=\"colab-df-container\">\n",
              "    <button class=\"colab-df-convert\" onclick=\"convertToInteractive('df-988d6e05-d01a-456b-a8df-4ab8b9152b65')\"\n",
              "            title=\"Convert this dataframe to an interactive table.\"\n",
              "            style=\"display:none;\">\n",
              "\n",
              "  <svg xmlns=\"http://www.w3.org/2000/svg\" height=\"24px\" viewBox=\"0 -960 960 960\">\n",
              "    <path d=\"M120-120v-720h720v720H120Zm60-500h600v-160H180v160Zm220 220h160v-160H400v160Zm0 220h160v-160H400v160ZM180-400h160v-160H180v160Zm440 0h160v-160H620v160ZM180-180h160v-160H180v160Zm440 0h160v-160H620v160Z\"/>\n",
              "  </svg>\n",
              "    </button>\n",
              "\n",
              "  <style>\n",
              "    .colab-df-container {\n",
              "      display:flex;\n",
              "      gap: 12px;\n",
              "    }\n",
              "\n",
              "    .colab-df-convert {\n",
              "      background-color: #E8F0FE;\n",
              "      border: none;\n",
              "      border-radius: 50%;\n",
              "      cursor: pointer;\n",
              "      display: none;\n",
              "      fill: #1967D2;\n",
              "      height: 32px;\n",
              "      padding: 0 0 0 0;\n",
              "      width: 32px;\n",
              "    }\n",
              "\n",
              "    .colab-df-convert:hover {\n",
              "      background-color: #E2EBFA;\n",
              "      box-shadow: 0px 1px 2px rgba(60, 64, 67, 0.3), 0px 1px 3px 1px rgba(60, 64, 67, 0.15);\n",
              "      fill: #174EA6;\n",
              "    }\n",
              "\n",
              "    .colab-df-buttons div {\n",
              "      margin-bottom: 4px;\n",
              "    }\n",
              "\n",
              "    [theme=dark] .colab-df-convert {\n",
              "      background-color: #3B4455;\n",
              "      fill: #D2E3FC;\n",
              "    }\n",
              "\n",
              "    [theme=dark] .colab-df-convert:hover {\n",
              "      background-color: #434B5C;\n",
              "      box-shadow: 0px 1px 3px 1px rgba(0, 0, 0, 0.15);\n",
              "      filter: drop-shadow(0px 1px 2px rgba(0, 0, 0, 0.3));\n",
              "      fill: #FFFFFF;\n",
              "    }\n",
              "  </style>\n",
              "\n",
              "    <script>\n",
              "      const buttonEl =\n",
              "        document.querySelector('#df-988d6e05-d01a-456b-a8df-4ab8b9152b65 button.colab-df-convert');\n",
              "      buttonEl.style.display =\n",
              "        google.colab.kernel.accessAllowed ? 'block' : 'none';\n",
              "\n",
              "      async function convertToInteractive(key) {\n",
              "        const element = document.querySelector('#df-988d6e05-d01a-456b-a8df-4ab8b9152b65');\n",
              "        const dataTable =\n",
              "          await google.colab.kernel.invokeFunction('convertToInteractive',\n",
              "                                                    [key], {});\n",
              "        if (!dataTable) return;\n",
              "\n",
              "        const docLinkHtml = 'Like what you see? Visit the ' +\n",
              "          '<a target=\"_blank\" href=https://colab.research.google.com/notebooks/data_table.ipynb>data table notebook</a>'\n",
              "          + ' to learn more about interactive tables.';\n",
              "        element.innerHTML = '';\n",
              "        dataTable['output_type'] = 'display_data';\n",
              "        await google.colab.output.renderOutput(dataTable, element);\n",
              "        const docLink = document.createElement('div');\n",
              "        docLink.innerHTML = docLinkHtml;\n",
              "        element.appendChild(docLink);\n",
              "      }\n",
              "    </script>\n",
              "  </div>\n",
              "\n",
              "\n",
              "<div id=\"df-55b9ae4c-e18d-48d5-8423-54576fa7b749\">\n",
              "  <button class=\"colab-df-quickchart\" onclick=\"quickchart('df-55b9ae4c-e18d-48d5-8423-54576fa7b749')\"\n",
              "            title=\"Suggest charts\"\n",
              "            style=\"display:none;\">\n",
              "\n",
              "<svg xmlns=\"http://www.w3.org/2000/svg\" height=\"24px\"viewBox=\"0 0 24 24\"\n",
              "     width=\"24px\">\n",
              "    <g>\n",
              "        <path d=\"M19 3H5c-1.1 0-2 .9-2 2v14c0 1.1.9 2 2 2h14c1.1 0 2-.9 2-2V5c0-1.1-.9-2-2-2zM9 17H7v-7h2v7zm4 0h-2V7h2v10zm4 0h-2v-4h2v4z\"/>\n",
              "    </g>\n",
              "</svg>\n",
              "  </button>\n",
              "\n",
              "<style>\n",
              "  .colab-df-quickchart {\n",
              "      --bg-color: #E8F0FE;\n",
              "      --fill-color: #1967D2;\n",
              "      --hover-bg-color: #E2EBFA;\n",
              "      --hover-fill-color: #174EA6;\n",
              "      --disabled-fill-color: #AAA;\n",
              "      --disabled-bg-color: #DDD;\n",
              "  }\n",
              "\n",
              "  [theme=dark] .colab-df-quickchart {\n",
              "      --bg-color: #3B4455;\n",
              "      --fill-color: #D2E3FC;\n",
              "      --hover-bg-color: #434B5C;\n",
              "      --hover-fill-color: #FFFFFF;\n",
              "      --disabled-bg-color: #3B4455;\n",
              "      --disabled-fill-color: #666;\n",
              "  }\n",
              "\n",
              "  .colab-df-quickchart {\n",
              "    background-color: var(--bg-color);\n",
              "    border: none;\n",
              "    border-radius: 50%;\n",
              "    cursor: pointer;\n",
              "    display: none;\n",
              "    fill: var(--fill-color);\n",
              "    height: 32px;\n",
              "    padding: 0;\n",
              "    width: 32px;\n",
              "  }\n",
              "\n",
              "  .colab-df-quickchart:hover {\n",
              "    background-color: var(--hover-bg-color);\n",
              "    box-shadow: 0 1px 2px rgba(60, 64, 67, 0.3), 0 1px 3px 1px rgba(60, 64, 67, 0.15);\n",
              "    fill: var(--button-hover-fill-color);\n",
              "  }\n",
              "\n",
              "  .colab-df-quickchart-complete:disabled,\n",
              "  .colab-df-quickchart-complete:disabled:hover {\n",
              "    background-color: var(--disabled-bg-color);\n",
              "    fill: var(--disabled-fill-color);\n",
              "    box-shadow: none;\n",
              "  }\n",
              "\n",
              "  .colab-df-spinner {\n",
              "    border: 2px solid var(--fill-color);\n",
              "    border-color: transparent;\n",
              "    border-bottom-color: var(--fill-color);\n",
              "    animation:\n",
              "      spin 1s steps(1) infinite;\n",
              "  }\n",
              "\n",
              "  @keyframes spin {\n",
              "    0% {\n",
              "      border-color: transparent;\n",
              "      border-bottom-color: var(--fill-color);\n",
              "      border-left-color: var(--fill-color);\n",
              "    }\n",
              "    20% {\n",
              "      border-color: transparent;\n",
              "      border-left-color: var(--fill-color);\n",
              "      border-top-color: var(--fill-color);\n",
              "    }\n",
              "    30% {\n",
              "      border-color: transparent;\n",
              "      border-left-color: var(--fill-color);\n",
              "      border-top-color: var(--fill-color);\n",
              "      border-right-color: var(--fill-color);\n",
              "    }\n",
              "    40% {\n",
              "      border-color: transparent;\n",
              "      border-right-color: var(--fill-color);\n",
              "      border-top-color: var(--fill-color);\n",
              "    }\n",
              "    60% {\n",
              "      border-color: transparent;\n",
              "      border-right-color: var(--fill-color);\n",
              "    }\n",
              "    80% {\n",
              "      border-color: transparent;\n",
              "      border-right-color: var(--fill-color);\n",
              "      border-bottom-color: var(--fill-color);\n",
              "    }\n",
              "    90% {\n",
              "      border-color: transparent;\n",
              "      border-bottom-color: var(--fill-color);\n",
              "    }\n",
              "  }\n",
              "</style>\n",
              "\n",
              "  <script>\n",
              "    async function quickchart(key) {\n",
              "      const quickchartButtonEl =\n",
              "        document.querySelector('#' + key + ' button');\n",
              "      quickchartButtonEl.disabled = true;  // To prevent multiple clicks.\n",
              "      quickchartButtonEl.classList.add('colab-df-spinner');\n",
              "      try {\n",
              "        const charts = await google.colab.kernel.invokeFunction(\n",
              "            'suggestCharts', [key], {});\n",
              "      } catch (error) {\n",
              "        console.error('Error during call to suggestCharts:', error);\n",
              "      }\n",
              "      quickchartButtonEl.classList.remove('colab-df-spinner');\n",
              "      quickchartButtonEl.classList.add('colab-df-quickchart-complete');\n",
              "    }\n",
              "    (() => {\n",
              "      let quickchartButtonEl =\n",
              "        document.querySelector('#df-55b9ae4c-e18d-48d5-8423-54576fa7b749 button');\n",
              "      quickchartButtonEl.style.display =\n",
              "        google.colab.kernel.accessAllowed ? 'block' : 'none';\n",
              "    })();\n",
              "  </script>\n",
              "</div>\n",
              "\n",
              "  <div id=\"id_ba3e35d4-0dd4-4f66-9917-e7572d6dd3b0\">\n",
              "    <style>\n",
              "      .colab-df-generate {\n",
              "        background-color: #E8F0FE;\n",
              "        border: none;\n",
              "        border-radius: 50%;\n",
              "        cursor: pointer;\n",
              "        display: none;\n",
              "        fill: #1967D2;\n",
              "        height: 32px;\n",
              "        padding: 0 0 0 0;\n",
              "        width: 32px;\n",
              "      }\n",
              "\n",
              "      .colab-df-generate:hover {\n",
              "        background-color: #E2EBFA;\n",
              "        box-shadow: 0px 1px 2px rgba(60, 64, 67, 0.3), 0px 1px 3px 1px rgba(60, 64, 67, 0.15);\n",
              "        fill: #174EA6;\n",
              "      }\n",
              "\n",
              "      [theme=dark] .colab-df-generate {\n",
              "        background-color: #3B4455;\n",
              "        fill: #D2E3FC;\n",
              "      }\n",
              "\n",
              "      [theme=dark] .colab-df-generate:hover {\n",
              "        background-color: #434B5C;\n",
              "        box-shadow: 0px 1px 3px 1px rgba(0, 0, 0, 0.15);\n",
              "        filter: drop-shadow(0px 1px 2px rgba(0, 0, 0, 0.3));\n",
              "        fill: #FFFFFF;\n",
              "      }\n",
              "    </style>\n",
              "    <button class=\"colab-df-generate\" onclick=\"generateWithVariable('ramada_result')\"\n",
              "            title=\"Generate code using this dataframe.\"\n",
              "            style=\"display:none;\">\n",
              "\n",
              "  <svg xmlns=\"http://www.w3.org/2000/svg\" height=\"24px\"viewBox=\"0 0 24 24\"\n",
              "       width=\"24px\">\n",
              "    <path d=\"M7,19H8.4L18.45,9,17,7.55,7,17.6ZM5,21V16.75L18.45,3.32a2,2,0,0,1,2.83,0l1.4,1.43a1.91,1.91,0,0,1,.58,1.4,1.91,1.91,0,0,1-.58,1.4L9.25,21ZM18.45,9,17,7.55Zm-12,3A5.31,5.31,0,0,0,4.9,8.1,5.31,5.31,0,0,0,1,6.5,5.31,5.31,0,0,0,4.9,4.9,5.31,5.31,0,0,0,6.5,1,5.31,5.31,0,0,0,8.1,4.9,5.31,5.31,0,0,0,12,6.5,5.46,5.46,0,0,0,6.5,12Z\"/>\n",
              "  </svg>\n",
              "    </button>\n",
              "    <script>\n",
              "      (() => {\n",
              "      const buttonEl =\n",
              "        document.querySelector('#id_ba3e35d4-0dd4-4f66-9917-e7572d6dd3b0 button.colab-df-generate');\n",
              "      buttonEl.style.display =\n",
              "        google.colab.kernel.accessAllowed ? 'block' : 'none';\n",
              "\n",
              "      buttonEl.onclick = () => {\n",
              "        google.colab.notebook.generateWithVariable('ramada_result');\n",
              "      }\n",
              "      })();\n",
              "    </script>\n",
              "  </div>\n",
              "\n",
              "    </div>\n",
              "  </div>\n"
            ],
            "application/vnd.google.colaboratory.intrinsic+json": {
              "type": "dataframe",
              "variable_name": "ramada_result",
              "summary": "{\n  \"name\": \"ramada_result\",\n  \"rows\": 110,\n  \"fields\": [\n    {\n      \"column\": \"Hotel_Name\",\n      \"properties\": {\n        \"dtype\": \"category\",\n        \"num_unique_values\": 1,\n        \"samples\": [\n          \"Ramada\"\n        ],\n        \"semantic_type\": \"\",\n        \"description\": \"\"\n      }\n    },\n    {\n      \"column\": \"CleanedReview\",\n      \"properties\": {\n        \"dtype\": \"string\",\n        \"num_unique_values\": 109,\n        \"samples\": [\n          \"the stay at ramada has always been a pleasure in ahmedabad\"\n        ],\n        \"semantic_type\": \"\",\n        \"description\": \"\"\n      }\n    },\n    {\n      \"column\": \"Sentiment\",\n      \"properties\": {\n        \"dtype\": \"category\",\n        \"num_unique_values\": 2,\n        \"samples\": [\n          \"NEGATIVE\"\n        ],\n        \"semantic_type\": \"\",\n        \"description\": \"\"\n      }\n    },\n    {\n      \"column\": \"Score\",\n      \"properties\": {\n        \"dtype\": \"number\",\n        \"std\": 0.05793174710585591,\n        \"min\": 0.5410628914833069,\n        \"max\": 0.9998898506164551,\n        \"num_unique_values\": 106,\n        \"samples\": [\n          0.9554159045219421\n        ],\n        \"semantic_type\": \"\",\n        \"description\": \"\"\n      }\n    },\n    {\n      \"column\": \"Detailed Sentiment\",\n      \"properties\": {\n        \"dtype\": \"category\",\n        \"num_unique_values\": 3,\n        \"samples\": [\n          \"Strongly Positive\"\n        ],\n        \"semantic_type\": \"\",\n        \"description\": \"\"\n      }\n    }\n  ]\n}"
            }
          },
          "metadata": {},
          "execution_count": 68
        }
      ]
    },
    {
      "cell_type": "code",
      "source": [
        "taj_result=analyze_reviews_per_hotel(taj)"
      ],
      "metadata": {
        "colab": {
          "base_uri": "https://localhost:8080/"
        },
        "id": "gRMZr3JX-6pn",
        "outputId": "d8d23633-d410-4d92-e498-94143c751213"
      },
      "execution_count": 78,
      "outputs": [
        {
          "output_type": "stream",
          "name": "stderr",
          "text": [
            "Device set to use cpu\n"
          ]
        }
      ]
    },
    {
      "cell_type": "code",
      "source": [
        "novotel_result=analyze_reviews_per_hotel(novotel)"
      ],
      "metadata": {
        "colab": {
          "base_uri": "https://localhost:8080/"
        },
        "id": "GdbdpLWE8Ib2",
        "outputId": "e22a0f89-0f83-4897-b2e8-7ae975750690"
      },
      "execution_count": 85,
      "outputs": [
        {
          "output_type": "stream",
          "name": "stderr",
          "text": [
            "Device set to use cpu\n"
          ]
        }
      ]
    },
    {
      "cell_type": "code",
      "source": [
        "binori_result=analyze_reviews_per_hotel(binori)"
      ],
      "metadata": {
        "colab": {
          "base_uri": "https://localhost:8080/",
          "height": 106
        },
        "id": "feioTbbkFLUN",
        "outputId": "9ed7b0e3-28f8-4a30-bab9-d4d9afcb629f"
      },
      "execution_count": 88,
      "outputs": [
        {
          "output_type": "stream",
          "name": "stderr",
          "text": [
            "Device set to use cpu\n"
          ]
        },
        {
          "output_type": "execute_result",
          "data": {
            "text/plain": [
              "  Hotel_Name  Ranking_Score\n",
              "0     Binori     113.555749"
            ],
            "text/html": [
              "\n",
              "  <div id=\"df-d9afcb56-567d-4ba6-b095-7cd25e47bc5f\" class=\"colab-df-container\">\n",
              "    <div>\n",
              "<style scoped>\n",
              "    .dataframe tbody tr th:only-of-type {\n",
              "        vertical-align: middle;\n",
              "    }\n",
              "\n",
              "    .dataframe tbody tr th {\n",
              "        vertical-align: top;\n",
              "    }\n",
              "\n",
              "    .dataframe thead th {\n",
              "        text-align: right;\n",
              "    }\n",
              "</style>\n",
              "<table border=\"1\" class=\"dataframe\">\n",
              "  <thead>\n",
              "    <tr style=\"text-align: right;\">\n",
              "      <th></th>\n",
              "      <th>Hotel_Name</th>\n",
              "      <th>Ranking_Score</th>\n",
              "    </tr>\n",
              "  </thead>\n",
              "  <tbody>\n",
              "    <tr>\n",
              "      <th>0</th>\n",
              "      <td>Binori</td>\n",
              "      <td>113.555749</td>\n",
              "    </tr>\n",
              "  </tbody>\n",
              "</table>\n",
              "</div>\n",
              "    <div class=\"colab-df-buttons\">\n",
              "\n",
              "  <div class=\"colab-df-container\">\n",
              "    <button class=\"colab-df-convert\" onclick=\"convertToInteractive('df-d9afcb56-567d-4ba6-b095-7cd25e47bc5f')\"\n",
              "            title=\"Convert this dataframe to an interactive table.\"\n",
              "            style=\"display:none;\">\n",
              "\n",
              "  <svg xmlns=\"http://www.w3.org/2000/svg\" height=\"24px\" viewBox=\"0 -960 960 960\">\n",
              "    <path d=\"M120-120v-720h720v720H120Zm60-500h600v-160H180v160Zm220 220h160v-160H400v160Zm0 220h160v-160H400v160ZM180-400h160v-160H180v160Zm440 0h160v-160H620v160ZM180-180h160v-160H180v160Zm440 0h160v-160H620v160Z\"/>\n",
              "  </svg>\n",
              "    </button>\n",
              "\n",
              "  <style>\n",
              "    .colab-df-container {\n",
              "      display:flex;\n",
              "      gap: 12px;\n",
              "    }\n",
              "\n",
              "    .colab-df-convert {\n",
              "      background-color: #E8F0FE;\n",
              "      border: none;\n",
              "      border-radius: 50%;\n",
              "      cursor: pointer;\n",
              "      display: none;\n",
              "      fill: #1967D2;\n",
              "      height: 32px;\n",
              "      padding: 0 0 0 0;\n",
              "      width: 32px;\n",
              "    }\n",
              "\n",
              "    .colab-df-convert:hover {\n",
              "      background-color: #E2EBFA;\n",
              "      box-shadow: 0px 1px 2px rgba(60, 64, 67, 0.3), 0px 1px 3px 1px rgba(60, 64, 67, 0.15);\n",
              "      fill: #174EA6;\n",
              "    }\n",
              "\n",
              "    .colab-df-buttons div {\n",
              "      margin-bottom: 4px;\n",
              "    }\n",
              "\n",
              "    [theme=dark] .colab-df-convert {\n",
              "      background-color: #3B4455;\n",
              "      fill: #D2E3FC;\n",
              "    }\n",
              "\n",
              "    [theme=dark] .colab-df-convert:hover {\n",
              "      background-color: #434B5C;\n",
              "      box-shadow: 0px 1px 3px 1px rgba(0, 0, 0, 0.15);\n",
              "      filter: drop-shadow(0px 1px 2px rgba(0, 0, 0, 0.3));\n",
              "      fill: #FFFFFF;\n",
              "    }\n",
              "  </style>\n",
              "\n",
              "    <script>\n",
              "      const buttonEl =\n",
              "        document.querySelector('#df-d9afcb56-567d-4ba6-b095-7cd25e47bc5f button.colab-df-convert');\n",
              "      buttonEl.style.display =\n",
              "        google.colab.kernel.accessAllowed ? 'block' : 'none';\n",
              "\n",
              "      async function convertToInteractive(key) {\n",
              "        const element = document.querySelector('#df-d9afcb56-567d-4ba6-b095-7cd25e47bc5f');\n",
              "        const dataTable =\n",
              "          await google.colab.kernel.invokeFunction('convertToInteractive',\n",
              "                                                    [key], {});\n",
              "        if (!dataTable) return;\n",
              "\n",
              "        const docLinkHtml = 'Like what you see? Visit the ' +\n",
              "          '<a target=\"_blank\" href=https://colab.research.google.com/notebooks/data_table.ipynb>data table notebook</a>'\n",
              "          + ' to learn more about interactive tables.';\n",
              "        element.innerHTML = '';\n",
              "        dataTable['output_type'] = 'display_data';\n",
              "        await google.colab.output.renderOutput(dataTable, element);\n",
              "        const docLink = document.createElement('div');\n",
              "        docLink.innerHTML = docLinkHtml;\n",
              "        element.appendChild(docLink);\n",
              "      }\n",
              "    </script>\n",
              "  </div>\n",
              "\n",
              "\n",
              "  <div id=\"id_3da1de01-76dc-4489-9ca8-5bae6140a01c\">\n",
              "    <style>\n",
              "      .colab-df-generate {\n",
              "        background-color: #E8F0FE;\n",
              "        border: none;\n",
              "        border-radius: 50%;\n",
              "        cursor: pointer;\n",
              "        display: none;\n",
              "        fill: #1967D2;\n",
              "        height: 32px;\n",
              "        padding: 0 0 0 0;\n",
              "        width: 32px;\n",
              "      }\n",
              "\n",
              "      .colab-df-generate:hover {\n",
              "        background-color: #E2EBFA;\n",
              "        box-shadow: 0px 1px 2px rgba(60, 64, 67, 0.3), 0px 1px 3px 1px rgba(60, 64, 67, 0.15);\n",
              "        fill: #174EA6;\n",
              "      }\n",
              "\n",
              "      [theme=dark] .colab-df-generate {\n",
              "        background-color: #3B4455;\n",
              "        fill: #D2E3FC;\n",
              "      }\n",
              "\n",
              "      [theme=dark] .colab-df-generate:hover {\n",
              "        background-color: #434B5C;\n",
              "        box-shadow: 0px 1px 3px 1px rgba(0, 0, 0, 0.15);\n",
              "        filter: drop-shadow(0px 1px 2px rgba(0, 0, 0, 0.3));\n",
              "        fill: #FFFFFF;\n",
              "      }\n",
              "    </style>\n",
              "    <button class=\"colab-df-generate\" onclick=\"generateWithVariable('binori_ranking')\"\n",
              "            title=\"Generate code using this dataframe.\"\n",
              "            style=\"display:none;\">\n",
              "\n",
              "  <svg xmlns=\"http://www.w3.org/2000/svg\" height=\"24px\"viewBox=\"0 0 24 24\"\n",
              "       width=\"24px\">\n",
              "    <path d=\"M7,19H8.4L18.45,9,17,7.55,7,17.6ZM5,21V16.75L18.45,3.32a2,2,0,0,1,2.83,0l1.4,1.43a1.91,1.91,0,0,1,.58,1.4,1.91,1.91,0,0,1-.58,1.4L9.25,21ZM18.45,9,17,7.55Zm-12,3A5.31,5.31,0,0,0,4.9,8.1,5.31,5.31,0,0,0,1,6.5,5.31,5.31,0,0,0,4.9,4.9,5.31,5.31,0,0,0,6.5,1,5.31,5.31,0,0,0,8.1,4.9,5.31,5.31,0,0,0,12,6.5,5.46,5.46,0,0,0,6.5,12Z\"/>\n",
              "  </svg>\n",
              "    </button>\n",
              "    <script>\n",
              "      (() => {\n",
              "      const buttonEl =\n",
              "        document.querySelector('#id_3da1de01-76dc-4489-9ca8-5bae6140a01c button.colab-df-generate');\n",
              "      buttonEl.style.display =\n",
              "        google.colab.kernel.accessAllowed ? 'block' : 'none';\n",
              "\n",
              "      buttonEl.onclick = () => {\n",
              "        google.colab.notebook.generateWithVariable('binori_ranking');\n",
              "      }\n",
              "      })();\n",
              "    </script>\n",
              "  </div>\n",
              "\n",
              "    </div>\n",
              "  </div>\n"
            ],
            "application/vnd.google.colaboratory.intrinsic+json": {
              "type": "dataframe",
              "variable_name": "binori_ranking",
              "summary": "{\n  \"name\": \"binori_ranking\",\n  \"rows\": 1,\n  \"fields\": [\n    {\n      \"column\": \"Hotel_Name\",\n      \"properties\": {\n        \"dtype\": \"string\",\n        \"num_unique_values\": 1,\n        \"samples\": [\n          \"Binori\"\n        ],\n        \"semantic_type\": \"\",\n        \"description\": \"\"\n      }\n    },\n    {\n      \"column\": \"Ranking_Score\",\n      \"properties\": {\n        \"dtype\": \"number\",\n        \"std\": null,\n        \"min\": 113.55574852340243,\n        \"max\": 113.55574852340243,\n        \"num_unique_values\": 1,\n        \"samples\": [\n          113.55574852340243\n        ],\n        \"semantic_type\": \"\",\n        \"description\": \"\"\n      }\n    }\n  ]\n}"
            }
          },
          "metadata": {},
          "execution_count": 88
        }
      ]
    },
    {
      "cell_type": "code",
      "source": [
        "courtyard_sbr_result=analyze_reviews_per_hotel(courtyard_sbr)\n"
      ],
      "metadata": {
        "colab": {
          "base_uri": "https://localhost:8080/",
          "height": 106
        },
        "id": "U95QxGrEFb4m",
        "outputId": "eae38a58-7434-4d0a-e679-b27485072132"
      },
      "execution_count": 89,
      "outputs": [
        {
          "output_type": "stream",
          "name": "stderr",
          "text": [
            "Device set to use cpu\n"
          ]
        },
        {
          "output_type": "execute_result",
          "data": {
            "text/plain": [
              "      Hotel_Name  Ranking_Score\n",
              "0  Courtyard SBR     107.952187"
            ],
            "text/html": [
              "\n",
              "  <div id=\"df-0786619e-8a0a-4dbc-acfe-6d3a3770cc6a\" class=\"colab-df-container\">\n",
              "    <div>\n",
              "<style scoped>\n",
              "    .dataframe tbody tr th:only-of-type {\n",
              "        vertical-align: middle;\n",
              "    }\n",
              "\n",
              "    .dataframe tbody tr th {\n",
              "        vertical-align: top;\n",
              "    }\n",
              "\n",
              "    .dataframe thead th {\n",
              "        text-align: right;\n",
              "    }\n",
              "</style>\n",
              "<table border=\"1\" class=\"dataframe\">\n",
              "  <thead>\n",
              "    <tr style=\"text-align: right;\">\n",
              "      <th></th>\n",
              "      <th>Hotel_Name</th>\n",
              "      <th>Ranking_Score</th>\n",
              "    </tr>\n",
              "  </thead>\n",
              "  <tbody>\n",
              "    <tr>\n",
              "      <th>0</th>\n",
              "      <td>Courtyard SBR</td>\n",
              "      <td>107.952187</td>\n",
              "    </tr>\n",
              "  </tbody>\n",
              "</table>\n",
              "</div>\n",
              "    <div class=\"colab-df-buttons\">\n",
              "\n",
              "  <div class=\"colab-df-container\">\n",
              "    <button class=\"colab-df-convert\" onclick=\"convertToInteractive('df-0786619e-8a0a-4dbc-acfe-6d3a3770cc6a')\"\n",
              "            title=\"Convert this dataframe to an interactive table.\"\n",
              "            style=\"display:none;\">\n",
              "\n",
              "  <svg xmlns=\"http://www.w3.org/2000/svg\" height=\"24px\" viewBox=\"0 -960 960 960\">\n",
              "    <path d=\"M120-120v-720h720v720H120Zm60-500h600v-160H180v160Zm220 220h160v-160H400v160Zm0 220h160v-160H400v160ZM180-400h160v-160H180v160Zm440 0h160v-160H620v160ZM180-180h160v-160H180v160Zm440 0h160v-160H620v160Z\"/>\n",
              "  </svg>\n",
              "    </button>\n",
              "\n",
              "  <style>\n",
              "    .colab-df-container {\n",
              "      display:flex;\n",
              "      gap: 12px;\n",
              "    }\n",
              "\n",
              "    .colab-df-convert {\n",
              "      background-color: #E8F0FE;\n",
              "      border: none;\n",
              "      border-radius: 50%;\n",
              "      cursor: pointer;\n",
              "      display: none;\n",
              "      fill: #1967D2;\n",
              "      height: 32px;\n",
              "      padding: 0 0 0 0;\n",
              "      width: 32px;\n",
              "    }\n",
              "\n",
              "    .colab-df-convert:hover {\n",
              "      background-color: #E2EBFA;\n",
              "      box-shadow: 0px 1px 2px rgba(60, 64, 67, 0.3), 0px 1px 3px 1px rgba(60, 64, 67, 0.15);\n",
              "      fill: #174EA6;\n",
              "    }\n",
              "\n",
              "    .colab-df-buttons div {\n",
              "      margin-bottom: 4px;\n",
              "    }\n",
              "\n",
              "    [theme=dark] .colab-df-convert {\n",
              "      background-color: #3B4455;\n",
              "      fill: #D2E3FC;\n",
              "    }\n",
              "\n",
              "    [theme=dark] .colab-df-convert:hover {\n",
              "      background-color: #434B5C;\n",
              "      box-shadow: 0px 1px 3px 1px rgba(0, 0, 0, 0.15);\n",
              "      filter: drop-shadow(0px 1px 2px rgba(0, 0, 0, 0.3));\n",
              "      fill: #FFFFFF;\n",
              "    }\n",
              "  </style>\n",
              "\n",
              "    <script>\n",
              "      const buttonEl =\n",
              "        document.querySelector('#df-0786619e-8a0a-4dbc-acfe-6d3a3770cc6a button.colab-df-convert');\n",
              "      buttonEl.style.display =\n",
              "        google.colab.kernel.accessAllowed ? 'block' : 'none';\n",
              "\n",
              "      async function convertToInteractive(key) {\n",
              "        const element = document.querySelector('#df-0786619e-8a0a-4dbc-acfe-6d3a3770cc6a');\n",
              "        const dataTable =\n",
              "          await google.colab.kernel.invokeFunction('convertToInteractive',\n",
              "                                                    [key], {});\n",
              "        if (!dataTable) return;\n",
              "\n",
              "        const docLinkHtml = 'Like what you see? Visit the ' +\n",
              "          '<a target=\"_blank\" href=https://colab.research.google.com/notebooks/data_table.ipynb>data table notebook</a>'\n",
              "          + ' to learn more about interactive tables.';\n",
              "        element.innerHTML = '';\n",
              "        dataTable['output_type'] = 'display_data';\n",
              "        await google.colab.output.renderOutput(dataTable, element);\n",
              "        const docLink = document.createElement('div');\n",
              "        docLink.innerHTML = docLinkHtml;\n",
              "        element.appendChild(docLink);\n",
              "      }\n",
              "    </script>\n",
              "  </div>\n",
              "\n",
              "\n",
              "  <div id=\"id_5f2f550a-0a96-4323-8022-59dafdee7045\">\n",
              "    <style>\n",
              "      .colab-df-generate {\n",
              "        background-color: #E8F0FE;\n",
              "        border: none;\n",
              "        border-radius: 50%;\n",
              "        cursor: pointer;\n",
              "        display: none;\n",
              "        fill: #1967D2;\n",
              "        height: 32px;\n",
              "        padding: 0 0 0 0;\n",
              "        width: 32px;\n",
              "      }\n",
              "\n",
              "      .colab-df-generate:hover {\n",
              "        background-color: #E2EBFA;\n",
              "        box-shadow: 0px 1px 2px rgba(60, 64, 67, 0.3), 0px 1px 3px 1px rgba(60, 64, 67, 0.15);\n",
              "        fill: #174EA6;\n",
              "      }\n",
              "\n",
              "      [theme=dark] .colab-df-generate {\n",
              "        background-color: #3B4455;\n",
              "        fill: #D2E3FC;\n",
              "      }\n",
              "\n",
              "      [theme=dark] .colab-df-generate:hover {\n",
              "        background-color: #434B5C;\n",
              "        box-shadow: 0px 1px 3px 1px rgba(0, 0, 0, 0.15);\n",
              "        filter: drop-shadow(0px 1px 2px rgba(0, 0, 0, 0.3));\n",
              "        fill: #FFFFFF;\n",
              "      }\n",
              "    </style>\n",
              "    <button class=\"colab-df-generate\" onclick=\"generateWithVariable('courtyard_sbr_ranking')\"\n",
              "            title=\"Generate code using this dataframe.\"\n",
              "            style=\"display:none;\">\n",
              "\n",
              "  <svg xmlns=\"http://www.w3.org/2000/svg\" height=\"24px\"viewBox=\"0 0 24 24\"\n",
              "       width=\"24px\">\n",
              "    <path d=\"M7,19H8.4L18.45,9,17,7.55,7,17.6ZM5,21V16.75L18.45,3.32a2,2,0,0,1,2.83,0l1.4,1.43a1.91,1.91,0,0,1,.58,1.4,1.91,1.91,0,0,1-.58,1.4L9.25,21ZM18.45,9,17,7.55Zm-12,3A5.31,5.31,0,0,0,4.9,8.1,5.31,5.31,0,0,0,1,6.5,5.31,5.31,0,0,0,4.9,4.9,5.31,5.31,0,0,0,6.5,1,5.31,5.31,0,0,0,8.1,4.9,5.31,5.31,0,0,0,12,6.5,5.46,5.46,0,0,0,6.5,12Z\"/>\n",
              "  </svg>\n",
              "    </button>\n",
              "    <script>\n",
              "      (() => {\n",
              "      const buttonEl =\n",
              "        document.querySelector('#id_5f2f550a-0a96-4323-8022-59dafdee7045 button.colab-df-generate');\n",
              "      buttonEl.style.display =\n",
              "        google.colab.kernel.accessAllowed ? 'block' : 'none';\n",
              "\n",
              "      buttonEl.onclick = () => {\n",
              "        google.colab.notebook.generateWithVariable('courtyard_sbr_ranking');\n",
              "      }\n",
              "      })();\n",
              "    </script>\n",
              "  </div>\n",
              "\n",
              "    </div>\n",
              "  </div>\n"
            ],
            "application/vnd.google.colaboratory.intrinsic+json": {
              "type": "dataframe",
              "variable_name": "courtyard_sbr_ranking",
              "summary": "{\n  \"name\": \"courtyard_sbr_ranking\",\n  \"rows\": 1,\n  \"fields\": [\n    {\n      \"column\": \"Hotel_Name\",\n      \"properties\": {\n        \"dtype\": \"string\",\n        \"num_unique_values\": 1,\n        \"samples\": [\n          \"Courtyard SBR\"\n        ],\n        \"semantic_type\": \"\",\n        \"description\": \"\"\n      }\n    },\n    {\n      \"column\": \"Ranking_Score\",\n      \"properties\": {\n        \"dtype\": \"number\",\n        \"std\": null,\n        \"min\": 107.95218738642606,\n        \"max\": 107.95218738642606,\n        \"num_unique_values\": 1,\n        \"samples\": [\n          107.95218738642606\n        ],\n        \"semantic_type\": \"\",\n        \"description\": \"\"\n      }\n    }\n  ]\n}"
            }
          },
          "metadata": {},
          "execution_count": 89
        }
      ]
    },
    {
      "cell_type": "code",
      "source": [
        "crown_plaza_result=analyze_reviews_per_hotel(crown_plaza)"
      ],
      "metadata": {
        "colab": {
          "base_uri": "https://localhost:8080/",
          "height": 106
        },
        "id": "mXZAY9E2Fbx1",
        "outputId": "777681d0-f3db-440d-d70b-116b55080152"
      },
      "execution_count": 90,
      "outputs": [
        {
          "output_type": "stream",
          "name": "stderr",
          "text": [
            "Device set to use cpu\n"
          ]
        },
        {
          "output_type": "execute_result",
          "data": {
            "text/plain": [
              "    Hotel_Name  Ranking_Score\n",
              "0  Crown Plaza     171.138491"
            ],
            "text/html": [
              "\n",
              "  <div id=\"df-d62e700d-f9fe-4f2f-bcf9-616a8495bd28\" class=\"colab-df-container\">\n",
              "    <div>\n",
              "<style scoped>\n",
              "    .dataframe tbody tr th:only-of-type {\n",
              "        vertical-align: middle;\n",
              "    }\n",
              "\n",
              "    .dataframe tbody tr th {\n",
              "        vertical-align: top;\n",
              "    }\n",
              "\n",
              "    .dataframe thead th {\n",
              "        text-align: right;\n",
              "    }\n",
              "</style>\n",
              "<table border=\"1\" class=\"dataframe\">\n",
              "  <thead>\n",
              "    <tr style=\"text-align: right;\">\n",
              "      <th></th>\n",
              "      <th>Hotel_Name</th>\n",
              "      <th>Ranking_Score</th>\n",
              "    </tr>\n",
              "  </thead>\n",
              "  <tbody>\n",
              "    <tr>\n",
              "      <th>0</th>\n",
              "      <td>Crown Plaza</td>\n",
              "      <td>171.138491</td>\n",
              "    </tr>\n",
              "  </tbody>\n",
              "</table>\n",
              "</div>\n",
              "    <div class=\"colab-df-buttons\">\n",
              "\n",
              "  <div class=\"colab-df-container\">\n",
              "    <button class=\"colab-df-convert\" onclick=\"convertToInteractive('df-d62e700d-f9fe-4f2f-bcf9-616a8495bd28')\"\n",
              "            title=\"Convert this dataframe to an interactive table.\"\n",
              "            style=\"display:none;\">\n",
              "\n",
              "  <svg xmlns=\"http://www.w3.org/2000/svg\" height=\"24px\" viewBox=\"0 -960 960 960\">\n",
              "    <path d=\"M120-120v-720h720v720H120Zm60-500h600v-160H180v160Zm220 220h160v-160H400v160Zm0 220h160v-160H400v160ZM180-400h160v-160H180v160Zm440 0h160v-160H620v160ZM180-180h160v-160H180v160Zm440 0h160v-160H620v160Z\"/>\n",
              "  </svg>\n",
              "    </button>\n",
              "\n",
              "  <style>\n",
              "    .colab-df-container {\n",
              "      display:flex;\n",
              "      gap: 12px;\n",
              "    }\n",
              "\n",
              "    .colab-df-convert {\n",
              "      background-color: #E8F0FE;\n",
              "      border: none;\n",
              "      border-radius: 50%;\n",
              "      cursor: pointer;\n",
              "      display: none;\n",
              "      fill: #1967D2;\n",
              "      height: 32px;\n",
              "      padding: 0 0 0 0;\n",
              "      width: 32px;\n",
              "    }\n",
              "\n",
              "    .colab-df-convert:hover {\n",
              "      background-color: #E2EBFA;\n",
              "      box-shadow: 0px 1px 2px rgba(60, 64, 67, 0.3), 0px 1px 3px 1px rgba(60, 64, 67, 0.15);\n",
              "      fill: #174EA6;\n",
              "    }\n",
              "\n",
              "    .colab-df-buttons div {\n",
              "      margin-bottom: 4px;\n",
              "    }\n",
              "\n",
              "    [theme=dark] .colab-df-convert {\n",
              "      background-color: #3B4455;\n",
              "      fill: #D2E3FC;\n",
              "    }\n",
              "\n",
              "    [theme=dark] .colab-df-convert:hover {\n",
              "      background-color: #434B5C;\n",
              "      box-shadow: 0px 1px 3px 1px rgba(0, 0, 0, 0.15);\n",
              "      filter: drop-shadow(0px 1px 2px rgba(0, 0, 0, 0.3));\n",
              "      fill: #FFFFFF;\n",
              "    }\n",
              "  </style>\n",
              "\n",
              "    <script>\n",
              "      const buttonEl =\n",
              "        document.querySelector('#df-d62e700d-f9fe-4f2f-bcf9-616a8495bd28 button.colab-df-convert');\n",
              "      buttonEl.style.display =\n",
              "        google.colab.kernel.accessAllowed ? 'block' : 'none';\n",
              "\n",
              "      async function convertToInteractive(key) {\n",
              "        const element = document.querySelector('#df-d62e700d-f9fe-4f2f-bcf9-616a8495bd28');\n",
              "        const dataTable =\n",
              "          await google.colab.kernel.invokeFunction('convertToInteractive',\n",
              "                                                    [key], {});\n",
              "        if (!dataTable) return;\n",
              "\n",
              "        const docLinkHtml = 'Like what you see? Visit the ' +\n",
              "          '<a target=\"_blank\" href=https://colab.research.google.com/notebooks/data_table.ipynb>data table notebook</a>'\n",
              "          + ' to learn more about interactive tables.';\n",
              "        element.innerHTML = '';\n",
              "        dataTable['output_type'] = 'display_data';\n",
              "        await google.colab.output.renderOutput(dataTable, element);\n",
              "        const docLink = document.createElement('div');\n",
              "        docLink.innerHTML = docLinkHtml;\n",
              "        element.appendChild(docLink);\n",
              "      }\n",
              "    </script>\n",
              "  </div>\n",
              "\n",
              "\n",
              "  <div id=\"id_896ed5ba-ba3c-49a3-957f-de47ca7b432d\">\n",
              "    <style>\n",
              "      .colab-df-generate {\n",
              "        background-color: #E8F0FE;\n",
              "        border: none;\n",
              "        border-radius: 50%;\n",
              "        cursor: pointer;\n",
              "        display: none;\n",
              "        fill: #1967D2;\n",
              "        height: 32px;\n",
              "        padding: 0 0 0 0;\n",
              "        width: 32px;\n",
              "      }\n",
              "\n",
              "      .colab-df-generate:hover {\n",
              "        background-color: #E2EBFA;\n",
              "        box-shadow: 0px 1px 2px rgba(60, 64, 67, 0.3), 0px 1px 3px 1px rgba(60, 64, 67, 0.15);\n",
              "        fill: #174EA6;\n",
              "      }\n",
              "\n",
              "      [theme=dark] .colab-df-generate {\n",
              "        background-color: #3B4455;\n",
              "        fill: #D2E3FC;\n",
              "      }\n",
              "\n",
              "      [theme=dark] .colab-df-generate:hover {\n",
              "        background-color: #434B5C;\n",
              "        box-shadow: 0px 1px 3px 1px rgba(0, 0, 0, 0.15);\n",
              "        filter: drop-shadow(0px 1px 2px rgba(0, 0, 0, 0.3));\n",
              "        fill: #FFFFFF;\n",
              "      }\n",
              "    </style>\n",
              "    <button class=\"colab-df-generate\" onclick=\"generateWithVariable('crown_plaza_ranking')\"\n",
              "            title=\"Generate code using this dataframe.\"\n",
              "            style=\"display:none;\">\n",
              "\n",
              "  <svg xmlns=\"http://www.w3.org/2000/svg\" height=\"24px\"viewBox=\"0 0 24 24\"\n",
              "       width=\"24px\">\n",
              "    <path d=\"M7,19H8.4L18.45,9,17,7.55,7,17.6ZM5,21V16.75L18.45,3.32a2,2,0,0,1,2.83,0l1.4,1.43a1.91,1.91,0,0,1,.58,1.4,1.91,1.91,0,0,1-.58,1.4L9.25,21ZM18.45,9,17,7.55Zm-12,3A5.31,5.31,0,0,0,4.9,8.1,5.31,5.31,0,0,0,1,6.5,5.31,5.31,0,0,0,4.9,4.9,5.31,5.31,0,0,0,6.5,1,5.31,5.31,0,0,0,8.1,4.9,5.31,5.31,0,0,0,12,6.5,5.46,5.46,0,0,0,6.5,12Z\"/>\n",
              "  </svg>\n",
              "    </button>\n",
              "    <script>\n",
              "      (() => {\n",
              "      const buttonEl =\n",
              "        document.querySelector('#id_896ed5ba-ba3c-49a3-957f-de47ca7b432d button.colab-df-generate');\n",
              "      buttonEl.style.display =\n",
              "        google.colab.kernel.accessAllowed ? 'block' : 'none';\n",
              "\n",
              "      buttonEl.onclick = () => {\n",
              "        google.colab.notebook.generateWithVariable('crown_plaza_ranking');\n",
              "      }\n",
              "      })();\n",
              "    </script>\n",
              "  </div>\n",
              "\n",
              "    </div>\n",
              "  </div>\n"
            ],
            "application/vnd.google.colaboratory.intrinsic+json": {
              "type": "dataframe",
              "variable_name": "crown_plaza_ranking",
              "summary": "{\n  \"name\": \"crown_plaza_ranking\",\n  \"rows\": 1,\n  \"fields\": [\n    {\n      \"column\": \"Hotel_Name\",\n      \"properties\": {\n        \"dtype\": \"string\",\n        \"num_unique_values\": 1,\n        \"samples\": [\n          \"Crown Plaza\"\n        ],\n        \"semantic_type\": \"\",\n        \"description\": \"\"\n      }\n    },\n    {\n      \"column\": \"Ranking_Score\",\n      \"properties\": {\n        \"dtype\": \"number\",\n        \"std\": null,\n        \"min\": 171.138490977363,\n        \"max\": 171.138490977363,\n        \"num_unique_values\": 1,\n        \"samples\": [\n          171.138490977363\n        ],\n        \"semantic_type\": \"\",\n        \"description\": \"\"\n      }\n    }\n  ]\n}"
            }
          },
          "metadata": {},
          "execution_count": 90
        }
      ]
    },
    {
      "cell_type": "code",
      "source": [
        "dt_result=analyze_reviews_per_hotel(dt)\n"
      ],
      "metadata": {
        "colab": {
          "base_uri": "https://localhost:8080/"
        },
        "id": "zbx_JSj0H0x9",
        "outputId": "274c0baf-fb98-4e4c-c58a-fa6a75970e8d"
      },
      "execution_count": 94,
      "outputs": [
        {
          "output_type": "stream",
          "name": "stderr",
          "text": [
            "Device set to use cpu\n"
          ]
        }
      ]
    },
    {
      "cell_type": "code",
      "source": [
        "ff_marriott_result=analyze_reviews_per_hotel(ff_marriott)\n"
      ],
      "metadata": {
        "colab": {
          "base_uri": "https://localhost:8080/"
        },
        "id": "cr74n8jNI8Ou",
        "outputId": "1c661458-2768-43a4-f42e-8411e91f98e8"
      },
      "execution_count": 95,
      "outputs": [
        {
          "output_type": "stream",
          "name": "stderr",
          "text": [
            "Device set to use cpu\n"
          ]
        }
      ]
    },
    {
      "cell_type": "code",
      "source": [
        "cama_result=analyze_reviews_per_hotel(cama)\n"
      ],
      "metadata": {
        "colab": {
          "base_uri": "https://localhost:8080/"
        },
        "id": "4X59wIn4JNUI",
        "outputId": "9b7b006e-fcdb-4566-8046-03335b087d2b"
      },
      "execution_count": 103,
      "outputs": [
        {
          "output_type": "stream",
          "name": "stderr",
          "text": [
            "Device set to use cpu\n"
          ]
        }
      ]
    },
    {
      "cell_type": "code",
      "source": [
        "renaissance_result=analyze_reviews_per_hotel(renaissance)\n"
      ],
      "metadata": {
        "colab": {
          "base_uri": "https://localhost:8080/"
        },
        "id": "7-DU1EaKJO1G",
        "outputId": "713f2d26-b64a-48ad-a13b-fe56197b945d"
      },
      "execution_count": 104,
      "outputs": [
        {
          "output_type": "stream",
          "name": "stderr",
          "text": [
            "Device set to use cpu\n"
          ]
        }
      ]
    },
    {
      "cell_type": "code",
      "source": [
        "courtyard_marriott_result=analyze_reviews_per_hotel(courtyard_marriott)\n"
      ],
      "metadata": {
        "colab": {
          "base_uri": "https://localhost:8080/"
        },
        "id": "QM0A83USJOxJ",
        "outputId": "1a8618b6-7eba-4747-b729-c35f0ae88c94"
      },
      "execution_count": 105,
      "outputs": [
        {
          "output_type": "stream",
          "name": "stderr",
          "text": [
            "Device set to use cpu\n"
          ]
        }
      ]
    },
    {
      "cell_type": "code",
      "source": [
        "vivanta_result=analyze_reviews_per_hotel(vivanta)\n"
      ],
      "metadata": {
        "colab": {
          "base_uri": "https://localhost:8080/"
        },
        "id": "T_PD2_Q0JOsr",
        "outputId": "be5c2bd6-d40a-4b3c-d61e-9cacb959ce3c"
      },
      "execution_count": 106,
      "outputs": [
        {
          "output_type": "stream",
          "name": "stderr",
          "text": [
            "Device set to use cpu\n"
          ]
        }
      ]
    },
    {
      "cell_type": "code",
      "source": [
        "rb_result=analyze_reviews_per_hotel(rb)\n"
      ],
      "metadata": {
        "colab": {
          "base_uri": "https://localhost:8080/"
        },
        "id": "ky6pK9UAJOov",
        "outputId": "15dfcbd0-a57c-4fa1-fe71-6894dca87b34"
      },
      "execution_count": 102,
      "outputs": [
        {
          "output_type": "stream",
          "name": "stderr",
          "text": [
            "Device set to use cpu\n"
          ]
        }
      ]
    },
    {
      "cell_type": "code",
      "source": [
        "pride_plaza_result=analyze_reviews_per_hotel(pride_plaza)\n"
      ],
      "metadata": {
        "colab": {
          "base_uri": "https://localhost:8080/"
        },
        "id": "moKcybXXJOjY",
        "outputId": "90ed3519-0512-4f59-f37e-048841714f20"
      },
      "execution_count": 101,
      "outputs": [
        {
          "output_type": "stream",
          "name": "stderr",
          "text": [
            "Device set to use cpu\n"
          ]
        }
      ]
    },
    {
      "cell_type": "code",
      "source": [
        "lt_result=analyze_reviews_per_hotel(lt)\n"
      ],
      "metadata": {
        "colab": {
          "base_uri": "https://localhost:8080/"
        },
        "id": "q_0ovkEGJOf4",
        "outputId": "be382485-4992-4df0-fba4-b01fb37de598"
      },
      "execution_count": 99,
      "outputs": [
        {
          "output_type": "stream",
          "name": "stderr",
          "text": [
            "Device set to use cpu\n"
          ]
        }
      ]
    },
    {
      "cell_type": "code",
      "source": [
        "itc_narmada_result=analyze_reviews_per_hotel(itc_narmada)\n"
      ],
      "metadata": {
        "colab": {
          "base_uri": "https://localhost:8080/"
        },
        "id": "P_Y1mZpdJObz",
        "outputId": "ec8937f1-98bc-4442-9f90-25aa191e5771"
      },
      "execution_count": 100,
      "outputs": [
        {
          "output_type": "stream",
          "name": "stderr",
          "text": [
            "Device set to use cpu\n"
          ]
        }
      ]
    },
    {
      "cell_type": "code",
      "source": [
        "hyatt_result=analyze_reviews_per_hotel(hyatt)\n"
      ],
      "metadata": {
        "colab": {
          "base_uri": "https://localhost:8080/"
        },
        "id": "3zNsbNLLJOYf",
        "outputId": "aee523a7-ff65-4727-e2d3-973a9823cead"
      },
      "execution_count": 96,
      "outputs": [
        {
          "output_type": "stream",
          "name": "stderr",
          "text": [
            "Device set to use cpu\n"
          ]
        }
      ]
    },
    {
      "cell_type": "code",
      "source": [
        "holiInn_prahald_result=analyze_reviews_per_hotel(holiInn_prahald)\n"
      ],
      "metadata": {
        "colab": {
          "base_uri": "https://localhost:8080/"
        },
        "id": "33azjdhMJOTy",
        "outputId": "2767ea29-796b-4919-e008-2bcba1e198a7"
      },
      "execution_count": 97,
      "outputs": [
        {
          "output_type": "stream",
          "name": "stderr",
          "text": [
            "Device set to use cpu\n"
          ]
        }
      ]
    },
    {
      "cell_type": "code",
      "source": [
        "fortune_select_result=analyze_reviews_per_hotel(fortune_select)\n"
      ],
      "metadata": {
        "colab": {
          "base_uri": "https://localhost:8080/"
        },
        "id": "PM4ZSlhRJOQT",
        "outputId": "59072b1d-5da8-4f05-c62e-79822a16102f"
      },
      "execution_count": 98,
      "outputs": [
        {
          "output_type": "stream",
          "name": "stderr",
          "text": [
            "Device set to use cpu\n"
          ]
        }
      ]
    },
    {
      "cell_type": "code",
      "source": [
        "cambay_result=analyze_reviews_per_hotel(cambay)\n"
      ],
      "metadata": {
        "colab": {
          "base_uri": "https://localhost:8080/"
        },
        "id": "4rHXSdaKJ-Py",
        "outputId": "f8bd0000-7695-4313-9830-ea6d2b6ca7da"
      },
      "execution_count": 107,
      "outputs": [
        {
          "output_type": "stream",
          "name": "stderr",
          "text": [
            "Device set to use cpu\n"
          ]
        }
      ]
    },
    {
      "cell_type": "code",
      "source": [
        "hyatt_regency_result=analyze_reviews_per_hotel(hyatt_regency)\n"
      ],
      "metadata": {
        "colab": {
          "base_uri": "https://localhost:8080/"
        },
        "id": "m_FD9IZ4KBh5",
        "outputId": "2bc54e3a-5151-48ec-e147-cf79d5adaac8"
      },
      "execution_count": 108,
      "outputs": [
        {
          "output_type": "stream",
          "name": "stderr",
          "text": [
            "Device set to use cpu\n"
          ]
        }
      ]
    },
    {
      "cell_type": "code",
      "source": [
        "mg_result=analyze_reviews_per_hotel(mg)\n"
      ],
      "metadata": {
        "colab": {
          "base_uri": "https://localhost:8080/"
        },
        "id": "3X647IWyKBT7",
        "outputId": "3b9cb032-461d-4166-8d53-5dbb0a392aa5"
      },
      "execution_count": 109,
      "outputs": [
        {
          "output_type": "stream",
          "name": "stderr",
          "text": [
            "Device set to use cpu\n"
          ]
        }
      ]
    },
    {
      "cell_type": "code",
      "source": [
        "hillock_result=analyze_reviews_per_hotel(hillock)\n"
      ],
      "metadata": {
        "colab": {
          "base_uri": "https://localhost:8080/"
        },
        "id": "tQnZ_Bo0KBGi",
        "outputId": "61a17fe0-36e2-4f67-da2f-c79bd7929b6f"
      },
      "execution_count": 110,
      "outputs": [
        {
          "output_type": "stream",
          "name": "stderr",
          "text": [
            "Device set to use cpu\n"
          ]
        }
      ]
    },
    {
      "cell_type": "code",
      "source": [
        "four_points_result=analyze_reviews_per_hotel(four_points)\n"
      ],
      "metadata": {
        "colab": {
          "base_uri": "https://localhost:8080/"
        },
        "id": "tcCz0aJTKA2u",
        "outputId": "54c65fb6-1d32-409a-cbb8-64170c9fae28"
      },
      "execution_count": 111,
      "outputs": [
        {
          "output_type": "stream",
          "name": "stderr",
          "text": [
            "Device set to use cpu\n"
          ]
        }
      ]
    },
    {
      "cell_type": "code",
      "source": [
        "fourtune_park_result=analyze_reviews_per_hotel(fourtune_park)\n"
      ],
      "metadata": {
        "colab": {
          "base_uri": "https://localhost:8080/"
        },
        "id": "ow7b9EzbKAnQ",
        "outputId": "da6244d9-d445-47be-d94b-7dbf198f85da"
      },
      "execution_count": 112,
      "outputs": [
        {
          "output_type": "stream",
          "name": "stderr",
          "text": [
            "Device set to use cpu\n"
          ]
        }
      ]
    },
    {
      "cell_type": "code",
      "source": [
        "welcomes_result=analyze_reviews_per_hotel(welcomes)\n"
      ],
      "metadata": {
        "colab": {
          "base_uri": "https://localhost:8080/"
        },
        "id": "72lpDpMOKxW1",
        "outputId": "ba5f9ac1-c0de-4239-9e76-c936ff33e2cb"
      },
      "execution_count": 113,
      "outputs": [
        {
          "output_type": "stream",
          "name": "stderr",
          "text": [
            "Device set to use cpu\n"
          ]
        }
      ]
    },
    {
      "cell_type": "code",
      "source": [
        "ummed_result=analyze_reviews_per_hotel(ummed)\n"
      ],
      "metadata": {
        "colab": {
          "base_uri": "https://localhost:8080/"
        },
        "id": "TY0uqEoSKxLz",
        "outputId": "79b5c3ef-7d2d-4192-e306-b1f895ef4aa0"
      },
      "execution_count": 114,
      "outputs": [
        {
          "output_type": "stream",
          "name": "stderr",
          "text": [
            "Device set to use cpu\n"
          ]
        }
      ]
    },
    {
      "cell_type": "code",
      "source": [
        "regenta_result=analyze_reviews_per_hotel(regenta)\n"
      ],
      "metadata": {
        "colab": {
          "base_uri": "https://localhost:8080/"
        },
        "id": "dd_L78MwKw_x",
        "outputId": "983c3614-d74c-43cd-c86b-3c52b67c4d59"
      },
      "execution_count": 115,
      "outputs": [
        {
          "output_type": "stream",
          "name": "stderr",
          "text": [
            "Device set to use cpu\n"
          ]
        }
      ]
    },
    {
      "cell_type": "code",
      "source": [
        "president_result=analyze_reviews_per_hotel(president)\n"
      ],
      "metadata": {
        "colab": {
          "base_uri": "https://localhost:8080/"
        },
        "id": "Dk9Ys2rhKw0D",
        "outputId": "61f2743c-d6d7-4af9-8a32-cec6333b43d5"
      },
      "execution_count": 116,
      "outputs": [
        {
          "output_type": "stream",
          "name": "stderr",
          "text": [
            "Device set to use cpu\n"
          ]
        }
      ]
    },
    {
      "cell_type": "code",
      "source": [
        "metropole_result=analyze_reviews_per_hotel(metropole)\n"
      ],
      "metadata": {
        "colab": {
          "base_uri": "https://localhost:8080/"
        },
        "id": "5tdXJPnKKwlQ",
        "outputId": "1753e9ef-5fc7-4c98-ae48-559e4fac50c9"
      },
      "execution_count": 117,
      "outputs": [
        {
          "output_type": "stream",
          "name": "stderr",
          "text": [
            "Device set to use cpu\n"
          ]
        }
      ]
    },
    {
      "cell_type": "code",
      "source": [
        "wyndham_result=analyze_reviews_per_hotel(wyndham)\n"
      ],
      "metadata": {
        "colab": {
          "base_uri": "https://localhost:8080/"
        },
        "id": "3ijj4viBLFqM",
        "outputId": "1bc57e53-fe16-4906-c504-b6796ccca8c6"
      },
      "execution_count": 118,
      "outputs": [
        {
          "output_type": "stream",
          "name": "stderr",
          "text": [
            "Device set to use cpu\n"
          ]
        }
      ]
    },
    {
      "cell_type": "code",
      "source": [
        "fortune_landmark_result=analyze_reviews_per_hotel(fortune_landmark)\n"
      ],
      "metadata": {
        "colab": {
          "base_uri": "https://localhost:8080/"
        },
        "id": "TTcO5nl9LHiL",
        "outputId": "87e0443d-3eff-4d10-84ee-8fabb4bfe3af"
      },
      "execution_count": 119,
      "outputs": [
        {
          "output_type": "stream",
          "name": "stderr",
          "text": [
            "Device set to use cpu\n"
          ]
        }
      ]
    },
    {
      "cell_type": "code",
      "source": [
        "import pandas as pd\n",
        "\n",
        "def calculate_strongly_positive_score(dataframes):\n",
        "    \"\"\"\n",
        "    Calculates a weighted score for each hotel based on the percentage of strongly positive reviews\n",
        "    and the average sentiment score of strongly positive reviews.\n",
        "\n",
        "    Parameters:\n",
        "    dataframes (list of DataFrame): List of DataFrames with columns 'Hotel_Name', 'Detailed Sentiment', 'Score'.\n",
        "\n",
        "    Returns:\n",
        "    DataFrame: A DataFrame containing 'Hotel_Name' and the calculated 'Weighted_Strongly_Positive_Score'.\n",
        "    \"\"\"\n",
        "    results = []\n",
        "\n",
        "    for df in dataframes:\n",
        "        # Ensure the DataFrame has the required columns\n",
        "        if not {'Hotel_Name', 'Detailed Sentiment', 'Score'}.issubset(df.columns):\n",
        "            raise ValueError(\"Each DataFrame must have 'Hotel_Name', 'Detailed Sentiment', and 'Score' columns.\")\n",
        "\n",
        "        # Calculate total reviews and strongly positive reviews\n",
        "        total_reviews = df.groupby('Hotel_Name')['Detailed Sentiment'].count()\n",
        "        strongly_positive_reviews = df[df['Detailed Sentiment'] == 'Strongly Positive'].groupby('Hotel_Name')['Detailed Sentiment'].count()\n",
        "\n",
        "        # Calculate the percentage of strongly positive reviews\n",
        "        percentage = (strongly_positive_reviews / total_reviews * 100).reset_index()\n",
        "        percentage.columns = ['Hotel_Name', 'Strongly_Positive_Percentage']\n",
        "\n",
        "        # Calculate the average sentiment score for strongly positive reviews\n",
        "        strongly_positive_scores = df[df['Detailed Sentiment'] == 'Strongly Positive'].groupby('Hotel_Name')['Score'].mean().reset_index()\n",
        "        strongly_positive_scores.columns = ['Hotel_Name', 'Average_Strongly_Positive_Score']\n",
        "\n",
        "        # Merge percentage and average score\n",
        "        merged = pd.merge(percentage, strongly_positive_scores, on='Hotel_Name')\n",
        "\n",
        "        # Calculate weighted score\n",
        "        weight_percentage = 0.8\n",
        "        weight_score = 0.2\n",
        "        merged['Weighted_Strongly_Positive_Score'] = (\n",
        "            merged['Strongly_Positive_Percentage'] * weight_percentage +\n",
        "            merged['Average_Strongly_Positive_Score'] * 100 * weight_score\n",
        "        )\n",
        "\n",
        "        # Append results\n",
        "        results.append(merged[['Hotel_Name', 'Weighted_Strongly_Positive_Score']])\n",
        "\n",
        "    # Combine results into a single DataFrame\n",
        "    combined_results = pd.concat(results, ignore_index=True).sort_values(by='Weighted_Strongly_Positive_Score', ascending=False)\n",
        "\n",
        "    return combined_results"
      ],
      "metadata": {
        "id": "YSZ1eFMebz_E"
      },
      "execution_count": 153,
      "outputs": []
    },
    {
      "cell_type": "code",
      "source": [
        "a=calculate_strongly_positive_score(updated_list)\n",
        "a.reset_index(drop=True)\n",
        "a"
      ],
      "metadata": {
        "colab": {
          "base_uri": "https://localhost:8080/",
          "height": 1000
        },
        "id": "r1ZmP6CLdjTA",
        "outputId": "721d174f-11d3-4a30-ee4c-c6b79705fe52"
      },
      "execution_count": 154,
      "outputs": [
        {
          "output_type": "execute_result",
          "data": {
            "text/plain": [
              "                        Hotel_Name  Weighted_Strongly_Positive_Score\n",
              "22                         Hillock                         91.818994\n",
              "11                     Pride Plaza                         90.337467\n",
              "29                 WelcomHotel ITC                         90.093449\n",
              "8                      ITC Narmada                         89.547943\n",
              "10                         Novotel                         89.172971\n",
              "12                    Radisson Blu                         88.902465\n",
              "31                Fortune Landmark                         86.661776\n",
              "7                            Hyatt                         85.857720\n",
              "23                     House of MG                         85.504529\n",
              "14                         Vivanta                         83.943911\n",
              "6        Holiday Inn Prahaladnagar                         83.627873\n",
              "2                      Crown Plaza                         83.202089\n",
              "16                          Ramada                         81.796809\n",
              "24                   Hyatt Regency                         81.075725\n",
              "9   Lemon Tree Premier, The Atrium                         80.774221\n",
              "13                             Taj                         80.720709\n",
              "20                    Fortune Park                         79.626438\n",
              "5                   Fortune Select                         78.736014\n",
              "3                      Double Tree                         77.288982\n",
              "18                            Cama                         76.950839\n",
              "21                     Four Points                         75.513471\n",
              "15              Courtyard Marriott                         71.955982\n",
              "28                       The Ummed                         71.260689\n",
              "0                           Binori                         71.103290\n",
              "26                   The President                         70.300239\n",
              "17                     Renaissance                         70.235531\n",
              "25                       Metropole                         69.226010\n",
              "30                         Wyndham                         68.416365\n",
              "1                    Courtyard SBR                         67.778274\n",
              "27                 Regenta Central                         66.120987\n",
              "4               FairField Marriott                         53.720615\n",
              "19                    Cambay Grand                         35.584975"
            ],
            "text/html": [
              "\n",
              "  <div id=\"df-0ce7309d-83f1-4a1c-8055-1ad0afdad8d5\" class=\"colab-df-container\">\n",
              "    <div>\n",
              "<style scoped>\n",
              "    .dataframe tbody tr th:only-of-type {\n",
              "        vertical-align: middle;\n",
              "    }\n",
              "\n",
              "    .dataframe tbody tr th {\n",
              "        vertical-align: top;\n",
              "    }\n",
              "\n",
              "    .dataframe thead th {\n",
              "        text-align: right;\n",
              "    }\n",
              "</style>\n",
              "<table border=\"1\" class=\"dataframe\">\n",
              "  <thead>\n",
              "    <tr style=\"text-align: right;\">\n",
              "      <th></th>\n",
              "      <th>Hotel_Name</th>\n",
              "      <th>Weighted_Strongly_Positive_Score</th>\n",
              "    </tr>\n",
              "  </thead>\n",
              "  <tbody>\n",
              "    <tr>\n",
              "      <th>22</th>\n",
              "      <td>Hillock</td>\n",
              "      <td>91.818994</td>\n",
              "    </tr>\n",
              "    <tr>\n",
              "      <th>11</th>\n",
              "      <td>Pride Plaza</td>\n",
              "      <td>90.337467</td>\n",
              "    </tr>\n",
              "    <tr>\n",
              "      <th>29</th>\n",
              "      <td>WelcomHotel ITC</td>\n",
              "      <td>90.093449</td>\n",
              "    </tr>\n",
              "    <tr>\n",
              "      <th>8</th>\n",
              "      <td>ITC Narmada</td>\n",
              "      <td>89.547943</td>\n",
              "    </tr>\n",
              "    <tr>\n",
              "      <th>10</th>\n",
              "      <td>Novotel</td>\n",
              "      <td>89.172971</td>\n",
              "    </tr>\n",
              "    <tr>\n",
              "      <th>12</th>\n",
              "      <td>Radisson Blu</td>\n",
              "      <td>88.902465</td>\n",
              "    </tr>\n",
              "    <tr>\n",
              "      <th>31</th>\n",
              "      <td>Fortune Landmark</td>\n",
              "      <td>86.661776</td>\n",
              "    </tr>\n",
              "    <tr>\n",
              "      <th>7</th>\n",
              "      <td>Hyatt</td>\n",
              "      <td>85.857720</td>\n",
              "    </tr>\n",
              "    <tr>\n",
              "      <th>23</th>\n",
              "      <td>House of MG</td>\n",
              "      <td>85.504529</td>\n",
              "    </tr>\n",
              "    <tr>\n",
              "      <th>14</th>\n",
              "      <td>Vivanta</td>\n",
              "      <td>83.943911</td>\n",
              "    </tr>\n",
              "    <tr>\n",
              "      <th>6</th>\n",
              "      <td>Holiday Inn Prahaladnagar</td>\n",
              "      <td>83.627873</td>\n",
              "    </tr>\n",
              "    <tr>\n",
              "      <th>2</th>\n",
              "      <td>Crown Plaza</td>\n",
              "      <td>83.202089</td>\n",
              "    </tr>\n",
              "    <tr>\n",
              "      <th>16</th>\n",
              "      <td>Ramada</td>\n",
              "      <td>81.796809</td>\n",
              "    </tr>\n",
              "    <tr>\n",
              "      <th>24</th>\n",
              "      <td>Hyatt Regency</td>\n",
              "      <td>81.075725</td>\n",
              "    </tr>\n",
              "    <tr>\n",
              "      <th>9</th>\n",
              "      <td>Lemon Tree Premier, The Atrium</td>\n",
              "      <td>80.774221</td>\n",
              "    </tr>\n",
              "    <tr>\n",
              "      <th>13</th>\n",
              "      <td>Taj</td>\n",
              "      <td>80.720709</td>\n",
              "    </tr>\n",
              "    <tr>\n",
              "      <th>20</th>\n",
              "      <td>Fortune Park</td>\n",
              "      <td>79.626438</td>\n",
              "    </tr>\n",
              "    <tr>\n",
              "      <th>5</th>\n",
              "      <td>Fortune Select</td>\n",
              "      <td>78.736014</td>\n",
              "    </tr>\n",
              "    <tr>\n",
              "      <th>3</th>\n",
              "      <td>Double Tree</td>\n",
              "      <td>77.288982</td>\n",
              "    </tr>\n",
              "    <tr>\n",
              "      <th>18</th>\n",
              "      <td>Cama</td>\n",
              "      <td>76.950839</td>\n",
              "    </tr>\n",
              "    <tr>\n",
              "      <th>21</th>\n",
              "      <td>Four Points</td>\n",
              "      <td>75.513471</td>\n",
              "    </tr>\n",
              "    <tr>\n",
              "      <th>15</th>\n",
              "      <td>Courtyard Marriott</td>\n",
              "      <td>71.955982</td>\n",
              "    </tr>\n",
              "    <tr>\n",
              "      <th>28</th>\n",
              "      <td>The Ummed</td>\n",
              "      <td>71.260689</td>\n",
              "    </tr>\n",
              "    <tr>\n",
              "      <th>0</th>\n",
              "      <td>Binori</td>\n",
              "      <td>71.103290</td>\n",
              "    </tr>\n",
              "    <tr>\n",
              "      <th>26</th>\n",
              "      <td>The President</td>\n",
              "      <td>70.300239</td>\n",
              "    </tr>\n",
              "    <tr>\n",
              "      <th>17</th>\n",
              "      <td>Renaissance</td>\n",
              "      <td>70.235531</td>\n",
              "    </tr>\n",
              "    <tr>\n",
              "      <th>25</th>\n",
              "      <td>Metropole</td>\n",
              "      <td>69.226010</td>\n",
              "    </tr>\n",
              "    <tr>\n",
              "      <th>30</th>\n",
              "      <td>Wyndham</td>\n",
              "      <td>68.416365</td>\n",
              "    </tr>\n",
              "    <tr>\n",
              "      <th>1</th>\n",
              "      <td>Courtyard SBR</td>\n",
              "      <td>67.778274</td>\n",
              "    </tr>\n",
              "    <tr>\n",
              "      <th>27</th>\n",
              "      <td>Regenta Central</td>\n",
              "      <td>66.120987</td>\n",
              "    </tr>\n",
              "    <tr>\n",
              "      <th>4</th>\n",
              "      <td>FairField Marriott</td>\n",
              "      <td>53.720615</td>\n",
              "    </tr>\n",
              "    <tr>\n",
              "      <th>19</th>\n",
              "      <td>Cambay Grand</td>\n",
              "      <td>35.584975</td>\n",
              "    </tr>\n",
              "  </tbody>\n",
              "</table>\n",
              "</div>\n",
              "    <div class=\"colab-df-buttons\">\n",
              "\n",
              "  <div class=\"colab-df-container\">\n",
              "    <button class=\"colab-df-convert\" onclick=\"convertToInteractive('df-0ce7309d-83f1-4a1c-8055-1ad0afdad8d5')\"\n",
              "            title=\"Convert this dataframe to an interactive table.\"\n",
              "            style=\"display:none;\">\n",
              "\n",
              "  <svg xmlns=\"http://www.w3.org/2000/svg\" height=\"24px\" viewBox=\"0 -960 960 960\">\n",
              "    <path d=\"M120-120v-720h720v720H120Zm60-500h600v-160H180v160Zm220 220h160v-160H400v160Zm0 220h160v-160H400v160ZM180-400h160v-160H180v160Zm440 0h160v-160H620v160ZM180-180h160v-160H180v160Zm440 0h160v-160H620v160Z\"/>\n",
              "  </svg>\n",
              "    </button>\n",
              "\n",
              "  <style>\n",
              "    .colab-df-container {\n",
              "      display:flex;\n",
              "      gap: 12px;\n",
              "    }\n",
              "\n",
              "    .colab-df-convert {\n",
              "      background-color: #E8F0FE;\n",
              "      border: none;\n",
              "      border-radius: 50%;\n",
              "      cursor: pointer;\n",
              "      display: none;\n",
              "      fill: #1967D2;\n",
              "      height: 32px;\n",
              "      padding: 0 0 0 0;\n",
              "      width: 32px;\n",
              "    }\n",
              "\n",
              "    .colab-df-convert:hover {\n",
              "      background-color: #E2EBFA;\n",
              "      box-shadow: 0px 1px 2px rgba(60, 64, 67, 0.3), 0px 1px 3px 1px rgba(60, 64, 67, 0.15);\n",
              "      fill: #174EA6;\n",
              "    }\n",
              "\n",
              "    .colab-df-buttons div {\n",
              "      margin-bottom: 4px;\n",
              "    }\n",
              "\n",
              "    [theme=dark] .colab-df-convert {\n",
              "      background-color: #3B4455;\n",
              "      fill: #D2E3FC;\n",
              "    }\n",
              "\n",
              "    [theme=dark] .colab-df-convert:hover {\n",
              "      background-color: #434B5C;\n",
              "      box-shadow: 0px 1px 3px 1px rgba(0, 0, 0, 0.15);\n",
              "      filter: drop-shadow(0px 1px 2px rgba(0, 0, 0, 0.3));\n",
              "      fill: #FFFFFF;\n",
              "    }\n",
              "  </style>\n",
              "\n",
              "    <script>\n",
              "      const buttonEl =\n",
              "        document.querySelector('#df-0ce7309d-83f1-4a1c-8055-1ad0afdad8d5 button.colab-df-convert');\n",
              "      buttonEl.style.display =\n",
              "        google.colab.kernel.accessAllowed ? 'block' : 'none';\n",
              "\n",
              "      async function convertToInteractive(key) {\n",
              "        const element = document.querySelector('#df-0ce7309d-83f1-4a1c-8055-1ad0afdad8d5');\n",
              "        const dataTable =\n",
              "          await google.colab.kernel.invokeFunction('convertToInteractive',\n",
              "                                                    [key], {});\n",
              "        if (!dataTable) return;\n",
              "\n",
              "        const docLinkHtml = 'Like what you see? Visit the ' +\n",
              "          '<a target=\"_blank\" href=https://colab.research.google.com/notebooks/data_table.ipynb>data table notebook</a>'\n",
              "          + ' to learn more about interactive tables.';\n",
              "        element.innerHTML = '';\n",
              "        dataTable['output_type'] = 'display_data';\n",
              "        await google.colab.output.renderOutput(dataTable, element);\n",
              "        const docLink = document.createElement('div');\n",
              "        docLink.innerHTML = docLinkHtml;\n",
              "        element.appendChild(docLink);\n",
              "      }\n",
              "    </script>\n",
              "  </div>\n",
              "\n",
              "\n",
              "<div id=\"df-c8d4c67b-d8f0-45d2-970f-71c0e8b87769\">\n",
              "  <button class=\"colab-df-quickchart\" onclick=\"quickchart('df-c8d4c67b-d8f0-45d2-970f-71c0e8b87769')\"\n",
              "            title=\"Suggest charts\"\n",
              "            style=\"display:none;\">\n",
              "\n",
              "<svg xmlns=\"http://www.w3.org/2000/svg\" height=\"24px\"viewBox=\"0 0 24 24\"\n",
              "     width=\"24px\">\n",
              "    <g>\n",
              "        <path d=\"M19 3H5c-1.1 0-2 .9-2 2v14c0 1.1.9 2 2 2h14c1.1 0 2-.9 2-2V5c0-1.1-.9-2-2-2zM9 17H7v-7h2v7zm4 0h-2V7h2v10zm4 0h-2v-4h2v4z\"/>\n",
              "    </g>\n",
              "</svg>\n",
              "  </button>\n",
              "\n",
              "<style>\n",
              "  .colab-df-quickchart {\n",
              "      --bg-color: #E8F0FE;\n",
              "      --fill-color: #1967D2;\n",
              "      --hover-bg-color: #E2EBFA;\n",
              "      --hover-fill-color: #174EA6;\n",
              "      --disabled-fill-color: #AAA;\n",
              "      --disabled-bg-color: #DDD;\n",
              "  }\n",
              "\n",
              "  [theme=dark] .colab-df-quickchart {\n",
              "      --bg-color: #3B4455;\n",
              "      --fill-color: #D2E3FC;\n",
              "      --hover-bg-color: #434B5C;\n",
              "      --hover-fill-color: #FFFFFF;\n",
              "      --disabled-bg-color: #3B4455;\n",
              "      --disabled-fill-color: #666;\n",
              "  }\n",
              "\n",
              "  .colab-df-quickchart {\n",
              "    background-color: var(--bg-color);\n",
              "    border: none;\n",
              "    border-radius: 50%;\n",
              "    cursor: pointer;\n",
              "    display: none;\n",
              "    fill: var(--fill-color);\n",
              "    height: 32px;\n",
              "    padding: 0;\n",
              "    width: 32px;\n",
              "  }\n",
              "\n",
              "  .colab-df-quickchart:hover {\n",
              "    background-color: var(--hover-bg-color);\n",
              "    box-shadow: 0 1px 2px rgba(60, 64, 67, 0.3), 0 1px 3px 1px rgba(60, 64, 67, 0.15);\n",
              "    fill: var(--button-hover-fill-color);\n",
              "  }\n",
              "\n",
              "  .colab-df-quickchart-complete:disabled,\n",
              "  .colab-df-quickchart-complete:disabled:hover {\n",
              "    background-color: var(--disabled-bg-color);\n",
              "    fill: var(--disabled-fill-color);\n",
              "    box-shadow: none;\n",
              "  }\n",
              "\n",
              "  .colab-df-spinner {\n",
              "    border: 2px solid var(--fill-color);\n",
              "    border-color: transparent;\n",
              "    border-bottom-color: var(--fill-color);\n",
              "    animation:\n",
              "      spin 1s steps(1) infinite;\n",
              "  }\n",
              "\n",
              "  @keyframes spin {\n",
              "    0% {\n",
              "      border-color: transparent;\n",
              "      border-bottom-color: var(--fill-color);\n",
              "      border-left-color: var(--fill-color);\n",
              "    }\n",
              "    20% {\n",
              "      border-color: transparent;\n",
              "      border-left-color: var(--fill-color);\n",
              "      border-top-color: var(--fill-color);\n",
              "    }\n",
              "    30% {\n",
              "      border-color: transparent;\n",
              "      border-left-color: var(--fill-color);\n",
              "      border-top-color: var(--fill-color);\n",
              "      border-right-color: var(--fill-color);\n",
              "    }\n",
              "    40% {\n",
              "      border-color: transparent;\n",
              "      border-right-color: var(--fill-color);\n",
              "      border-top-color: var(--fill-color);\n",
              "    }\n",
              "    60% {\n",
              "      border-color: transparent;\n",
              "      border-right-color: var(--fill-color);\n",
              "    }\n",
              "    80% {\n",
              "      border-color: transparent;\n",
              "      border-right-color: var(--fill-color);\n",
              "      border-bottom-color: var(--fill-color);\n",
              "    }\n",
              "    90% {\n",
              "      border-color: transparent;\n",
              "      border-bottom-color: var(--fill-color);\n",
              "    }\n",
              "  }\n",
              "</style>\n",
              "\n",
              "  <script>\n",
              "    async function quickchart(key) {\n",
              "      const quickchartButtonEl =\n",
              "        document.querySelector('#' + key + ' button');\n",
              "      quickchartButtonEl.disabled = true;  // To prevent multiple clicks.\n",
              "      quickchartButtonEl.classList.add('colab-df-spinner');\n",
              "      try {\n",
              "        const charts = await google.colab.kernel.invokeFunction(\n",
              "            'suggestCharts', [key], {});\n",
              "      } catch (error) {\n",
              "        console.error('Error during call to suggestCharts:', error);\n",
              "      }\n",
              "      quickchartButtonEl.classList.remove('colab-df-spinner');\n",
              "      quickchartButtonEl.classList.add('colab-df-quickchart-complete');\n",
              "    }\n",
              "    (() => {\n",
              "      let quickchartButtonEl =\n",
              "        document.querySelector('#df-c8d4c67b-d8f0-45d2-970f-71c0e8b87769 button');\n",
              "      quickchartButtonEl.style.display =\n",
              "        google.colab.kernel.accessAllowed ? 'block' : 'none';\n",
              "    })();\n",
              "  </script>\n",
              "</div>\n",
              "\n",
              "  <div id=\"id_ad5fbeb7-3a12-4d79-a6f1-d94fe50cbd1f\">\n",
              "    <style>\n",
              "      .colab-df-generate {\n",
              "        background-color: #E8F0FE;\n",
              "        border: none;\n",
              "        border-radius: 50%;\n",
              "        cursor: pointer;\n",
              "        display: none;\n",
              "        fill: #1967D2;\n",
              "        height: 32px;\n",
              "        padding: 0 0 0 0;\n",
              "        width: 32px;\n",
              "      }\n",
              "\n",
              "      .colab-df-generate:hover {\n",
              "        background-color: #E2EBFA;\n",
              "        box-shadow: 0px 1px 2px rgba(60, 64, 67, 0.3), 0px 1px 3px 1px rgba(60, 64, 67, 0.15);\n",
              "        fill: #174EA6;\n",
              "      }\n",
              "\n",
              "      [theme=dark] .colab-df-generate {\n",
              "        background-color: #3B4455;\n",
              "        fill: #D2E3FC;\n",
              "      }\n",
              "\n",
              "      [theme=dark] .colab-df-generate:hover {\n",
              "        background-color: #434B5C;\n",
              "        box-shadow: 0px 1px 3px 1px rgba(0, 0, 0, 0.15);\n",
              "        filter: drop-shadow(0px 1px 2px rgba(0, 0, 0, 0.3));\n",
              "        fill: #FFFFFF;\n",
              "      }\n",
              "    </style>\n",
              "    <button class=\"colab-df-generate\" onclick=\"generateWithVariable('a')\"\n",
              "            title=\"Generate code using this dataframe.\"\n",
              "            style=\"display:none;\">\n",
              "\n",
              "  <svg xmlns=\"http://www.w3.org/2000/svg\" height=\"24px\"viewBox=\"0 0 24 24\"\n",
              "       width=\"24px\">\n",
              "    <path d=\"M7,19H8.4L18.45,9,17,7.55,7,17.6ZM5,21V16.75L18.45,3.32a2,2,0,0,1,2.83,0l1.4,1.43a1.91,1.91,0,0,1,.58,1.4,1.91,1.91,0,0,1-.58,1.4L9.25,21ZM18.45,9,17,7.55Zm-12,3A5.31,5.31,0,0,0,4.9,8.1,5.31,5.31,0,0,0,1,6.5,5.31,5.31,0,0,0,4.9,4.9,5.31,5.31,0,0,0,6.5,1,5.31,5.31,0,0,0,8.1,4.9,5.31,5.31,0,0,0,12,6.5,5.46,5.46,0,0,0,6.5,12Z\"/>\n",
              "  </svg>\n",
              "    </button>\n",
              "    <script>\n",
              "      (() => {\n",
              "      const buttonEl =\n",
              "        document.querySelector('#id_ad5fbeb7-3a12-4d79-a6f1-d94fe50cbd1f button.colab-df-generate');\n",
              "      buttonEl.style.display =\n",
              "        google.colab.kernel.accessAllowed ? 'block' : 'none';\n",
              "\n",
              "      buttonEl.onclick = () => {\n",
              "        google.colab.notebook.generateWithVariable('a');\n",
              "      }\n",
              "      })();\n",
              "    </script>\n",
              "  </div>\n",
              "\n",
              "    </div>\n",
              "  </div>\n"
            ],
            "application/vnd.google.colaboratory.intrinsic+json": {
              "type": "dataframe",
              "variable_name": "a",
              "summary": "{\n  \"name\": \"a\",\n  \"rows\": 32,\n  \"fields\": [\n    {\n      \"column\": \"Hotel_Name\",\n      \"properties\": {\n        \"dtype\": \"string\",\n        \"num_unique_values\": 32,\n        \"samples\": [\n          \"Regenta Central\",\n          \"Taj\",\n          \"The President\"\n        ],\n        \"semantic_type\": \"\",\n        \"description\": \"\"\n      }\n    },\n    {\n      \"column\": \"Weighted_Strongly_Positive_Score\",\n      \"properties\": {\n        \"dtype\": \"number\",\n        \"std\": 11.70079686871197,\n        \"min\": 35.584975392603205,\n        \"max\": 91.8189936829299,\n        \"num_unique_values\": 32,\n        \"samples\": [\n          66.1209874110179,\n          80.72070877066838,\n          70.30023927559759\n        ],\n        \"semantic_type\": \"\",\n        \"description\": \"\"\n      }\n    }\n  ]\n}"
            }
          },
          "metadata": {},
          "execution_count": 154
        }
      ]
    }
  ]
}